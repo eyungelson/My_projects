{
 "cells": [
  {
   "cell_type": "markdown",
   "id": "50ffe4a5",
   "metadata": {
    "toc": true
   },
   "source": [
    "<h1>Table of Contents<span class=\"tocSkip\"></span></h1>\n",
    "<div class=\"toc\"><ul class=\"toc-item\"><li><span><a href=\"#Описание-проекта\" data-toc-modified-id=\"Описание-проекта-1\"><span class=\"toc-item-num\">1&nbsp;&nbsp;</span>Описание проекта</a></span></li><li><span><a href=\"#Часть-1.-Приоритизация-гипотез\" data-toc-modified-id=\"Часть-1.-Приоритизация-гипотез-2\"><span class=\"toc-item-num\">2&nbsp;&nbsp;</span>Часть 1. Приоритизация гипотез</a></span><ul class=\"toc-item\"><li><span><a href=\"#Описание-задачи\" data-toc-modified-id=\"Описание-задачи-2.1\"><span class=\"toc-item-num\">2.1&nbsp;&nbsp;</span>Описание задачи</a></span></li><li><span><a href=\"#Знакомство-с-данными\" data-toc-modified-id=\"Знакомство-с-данными-2.2\"><span class=\"toc-item-num\">2.2&nbsp;&nbsp;</span>Знакомство с данными</a></span></li><li><span><a href=\"#Фреймворк-ICE\" data-toc-modified-id=\"Фреймворк-ICE-2.3\"><span class=\"toc-item-num\">2.3&nbsp;&nbsp;</span>Фреймворк ICE</a></span></li><li><span><a href=\"#Фреймворк-RICE\" data-toc-modified-id=\"Фреймворк-RICE-2.4\"><span class=\"toc-item-num\">2.4&nbsp;&nbsp;</span>Фреймворк RICE</a></span></li><li><span><a href=\"#Выводы\" data-toc-modified-id=\"Выводы-2.5\"><span class=\"toc-item-num\">2.5&nbsp;&nbsp;</span>Выводы</a></span></li></ul></li><li><span><a href=\"#Часть-2.-Анализ-A/B-теста\" data-toc-modified-id=\"Часть-2.-Анализ-A/B-теста-3\"><span class=\"toc-item-num\">3&nbsp;&nbsp;</span>Часть 2. Анализ A/B-теста</a></span><ul class=\"toc-item\"><li><span><a href=\"#Предобработка-данных\" data-toc-modified-id=\"Предобработка-данных-3.1\"><span class=\"toc-item-num\">3.1&nbsp;&nbsp;</span>Предобработка данных</a></span></li><li><span><a href=\"#Анализ-А/В-теста\" data-toc-modified-id=\"Анализ-А/В-теста-3.2\"><span class=\"toc-item-num\">3.2&nbsp;&nbsp;</span>Анализ А/В теста</a></span><ul class=\"toc-item\"><li><span><a href=\"#Подготовка-данных\" data-toc-modified-id=\"Подготовка-данных-3.2.1\"><span class=\"toc-item-num\">3.2.1&nbsp;&nbsp;</span>Подготовка данных</a></span></li><li><span><a href=\"#График-кумулятивной-выручки-по-группам\" data-toc-modified-id=\"График-кумулятивной-выручки-по-группам-3.2.2\"><span class=\"toc-item-num\">3.2.2&nbsp;&nbsp;</span>График кумулятивной выручки по группам</a></span></li><li><span><a href=\"#График-кумулятивного-среднего-чека-по-группам\" data-toc-modified-id=\"График-кумулятивного-среднего-чека-по-группам-3.2.3\"><span class=\"toc-item-num\">3.2.3&nbsp;&nbsp;</span>График кумулятивного среднего чека по группам</a></span></li><li><span><a href=\"#График-относительного-изменения-кумулятивного-среднего-чека-группы-B-к-группе-A\" data-toc-modified-id=\"График-относительного-изменения-кумулятивного-среднего-чека-группы-B-к-группе-A-3.2.4\"><span class=\"toc-item-num\">3.2.4&nbsp;&nbsp;</span>График относительного изменения кумулятивного среднего чека группы B к группе A</a></span></li><li><span><a href=\"#График-кумулятивного-среднего-количества-заказов-на-посетителя-(конверсии)-по-группам\" data-toc-modified-id=\"График-кумулятивного-среднего-количества-заказов-на-посетителя-(конверсии)-по-группам-3.2.5\"><span class=\"toc-item-num\">3.2.5&nbsp;&nbsp;</span>График кумулятивного среднего количества заказов на посетителя (конверсии) по группам</a></span></li><li><span><a href=\"#График-относительного-изменения-кумулятивного-среднего-количества-заказов-на-посетителя-(конверсии)-группы-B-к-группе-A\" data-toc-modified-id=\"График-относительного-изменения-кумулятивного-среднего-количества-заказов-на-посетителя-(конверсии)-группы-B-к-группе-A-3.2.6\"><span class=\"toc-item-num\">3.2.6&nbsp;&nbsp;</span>График относительного изменения кумулятивного среднего количества заказов на посетителя (конверсии) группы B к группе A</a></span></li><li><span><a href=\"#Точечный-график-количества-заказов-по-пользователям\" data-toc-modified-id=\"Точечный-график-количества-заказов-по-пользователям-3.2.7\"><span class=\"toc-item-num\">3.2.7&nbsp;&nbsp;</span>Точечный график количества заказов по пользователям</a></span></li><li><span><a href=\"#95-й-и-99-й-перцентили-количества-заказов-на-пользователя\" data-toc-modified-id=\"95-й-и-99-й-перцентили-количества-заказов-на-пользователя-3.2.8\"><span class=\"toc-item-num\">3.2.8&nbsp;&nbsp;</span>95-й и 99-й перцентили количества заказов на пользователя</a></span></li><li><span><a href=\"#Точечный-график-стоимостей-заказов\" data-toc-modified-id=\"Точечный-график-стоимостей-заказов-3.2.9\"><span class=\"toc-item-num\">3.2.9&nbsp;&nbsp;</span>Точечный график стоимостей заказов</a></span></li><li><span><a href=\"#95-й-и-99-й-перцентили-стоимости-заказов\" data-toc-modified-id=\"95-й-и-99-й-перцентили-стоимости-заказов-3.2.10\"><span class=\"toc-item-num\">3.2.10&nbsp;&nbsp;</span>95-й и 99-й перцентили стоимости заказов</a></span></li></ul></li><li><span><a href=\"#Оценка-статистической-значимости-различий-групп-А-и-В\" data-toc-modified-id=\"Оценка-статистической-значимости-различий-групп-А-и-В-3.3\"><span class=\"toc-item-num\">3.3&nbsp;&nbsp;</span>Оценка статистической значимости различий групп А и В</a></span><ul class=\"toc-item\"><li><span><a href=\"#Статистическая-значимость-различий-в-среднем-количестве-заказов-на-посетителя-между-группами-по-«сырым»-данным\" data-toc-modified-id=\"Статистическая-значимость-различий-в-среднем-количестве-заказов-на-посетителя-между-группами-по-«сырым»-данным-3.3.1\"><span class=\"toc-item-num\">3.3.1&nbsp;&nbsp;</span>Статистическая значимость различий в среднем количестве заказов на посетителя между группами по «сырым» данным</a></span></li><li><span><a href=\"#Статистическая-значимость-различий-в-среднем-чеке-заказа-между-группами-по-«сырым»-данным\" data-toc-modified-id=\"Статистическая-значимость-различий-в-среднем-чеке-заказа-между-группами-по-«сырым»-данным-3.3.2\"><span class=\"toc-item-num\">3.3.2&nbsp;&nbsp;</span>Статистическая значимость различий в среднем чеке заказа между группами по «сырым» данным</a></span></li><li><span><a href=\"#Cтатистическая-значимость-различий-в-среднем-количестве-заказов-на-посетителя-между-группами-по-«очищенным»-данным\" data-toc-modified-id=\"Cтатистическая-значимость-различий-в-среднем-количестве-заказов-на-посетителя-между-группами-по-«очищенным»-данным-3.3.3\"><span class=\"toc-item-num\">3.3.3&nbsp;&nbsp;</span>Cтатистическая значимость различий в среднем количестве заказов на посетителя между группами по «очищенным» данным</a></span></li><li><span><a href=\"#Статистическая-значимость-различий-в-среднем-чеке-заказа-между-группами-по-«очищенным»-данным\" data-toc-modified-id=\"Статистическая-значимость-различий-в-среднем-чеке-заказа-между-группами-по-«очищенным»-данным-3.3.4\"><span class=\"toc-item-num\">3.3.4&nbsp;&nbsp;</span>Статистическая значимость различий в среднем чеке заказа между группами по «очищенным» данным</a></span></li></ul></li></ul></li><li><span><a href=\"#Выводы\" data-toc-modified-id=\"Выводы-4\"><span class=\"toc-item-num\">4&nbsp;&nbsp;</span>Выводы</a></span></li></ul></div>"
   ]
  },
  {
   "cell_type": "markdown",
   "id": "c25e268d",
   "metadata": {},
   "source": [
    "## Описание проекта\n",
    "В данной работе представлен анализ А/В теста для интернет-магазина.\n",
    "В первой части рассмотрен ряд гипотез и выполнена приоритезация с помощью различных фреймворков.\n",
    "Во второй части исследуются посещенияи и заказы опытной и контрольной группы. Проводится статистический расчет значимости различий ключевых метрик и делается вывод о завершении теста.\n",
    "\n",
    "В работе для обработки данных используются библиотеки pandas и numpy, визуализация выполнена с помощью модуля matplotlid, статистические расчеты проведены встроенными методами библиотеки scipy."
   ]
  },
  {
   "cell_type": "code",
   "execution_count": 1,
   "id": "ff489d3e",
   "metadata": {},
   "outputs": [],
   "source": [
    "import pandas as pd\n",
    "import numpy as np\n",
    "import datetime as dt\n",
    "import matplotlib.pyplot as plt\n",
    "import seaborn as sns\n",
    "from scipy import stats as st\n",
    "import math"
   ]
  },
  {
   "cell_type": "markdown",
   "id": "16b57f1b",
   "metadata": {},
   "source": [
    "## Часть 1. Приоритизация гипотез"
   ]
  },
  {
   "cell_type": "markdown",
   "id": "ef460c1d",
   "metadata": {},
   "source": [
    "### Описание задачи\n",
    "В предоставленном датасете содержится 9 гипотез по увеличению выручки интернет-магазина с указанными параметрами Reach, Impact, Confidence, Effort.\n",
    "<br>Задача - приоритезировать гипотезы с применением различных фреймворков"
   ]
  },
  {
   "cell_type": "markdown",
   "id": "438b5a36",
   "metadata": {},
   "source": [
    "### Знакомство с данными"
   ]
  },
  {
   "cell_type": "code",
   "execution_count": 2,
   "id": "e657d32c",
   "metadata": {},
   "outputs": [
    {
     "data": {
      "text/html": [
       "<div>\n",
       "<style scoped>\n",
       "    .dataframe tbody tr th:only-of-type {\n",
       "        vertical-align: middle;\n",
       "    }\n",
       "\n",
       "    .dataframe tbody tr th {\n",
       "        vertical-align: top;\n",
       "    }\n",
       "\n",
       "    .dataframe thead th {\n",
       "        text-align: right;\n",
       "    }\n",
       "</style>\n",
       "<table border=\"1\" class=\"dataframe\">\n",
       "  <thead>\n",
       "    <tr style=\"text-align: right;\">\n",
       "      <th></th>\n",
       "      <th>Hypothesis</th>\n",
       "      <th>Reach</th>\n",
       "      <th>Impact</th>\n",
       "      <th>Confidence</th>\n",
       "      <th>Efforts</th>\n",
       "    </tr>\n",
       "  </thead>\n",
       "  <tbody>\n",
       "    <tr>\n",
       "      <th>0</th>\n",
       "      <td>Добавить два новых канала привлечения трафика,...</td>\n",
       "      <td>3</td>\n",
       "      <td>10</td>\n",
       "      <td>8</td>\n",
       "      <td>6</td>\n",
       "    </tr>\n",
       "    <tr>\n",
       "      <th>1</th>\n",
       "      <td>Запустить собственную службу доставки, что сок...</td>\n",
       "      <td>2</td>\n",
       "      <td>5</td>\n",
       "      <td>4</td>\n",
       "      <td>10</td>\n",
       "    </tr>\n",
       "    <tr>\n",
       "      <th>2</th>\n",
       "      <td>Добавить блоки рекомендаций товаров на сайт ин...</td>\n",
       "      <td>8</td>\n",
       "      <td>3</td>\n",
       "      <td>7</td>\n",
       "      <td>3</td>\n",
       "    </tr>\n",
       "    <tr>\n",
       "      <th>3</th>\n",
       "      <td>Изменить структура категорий, что увеличит кон...</td>\n",
       "      <td>8</td>\n",
       "      <td>3</td>\n",
       "      <td>3</td>\n",
       "      <td>8</td>\n",
       "    </tr>\n",
       "    <tr>\n",
       "      <th>4</th>\n",
       "      <td>Изменить цвет фона главной страницы, чтобы уве...</td>\n",
       "      <td>3</td>\n",
       "      <td>1</td>\n",
       "      <td>1</td>\n",
       "      <td>1</td>\n",
       "    </tr>\n",
       "    <tr>\n",
       "      <th>5</th>\n",
       "      <td>Добавить страницу отзывов клиентов о магазине,...</td>\n",
       "      <td>3</td>\n",
       "      <td>2</td>\n",
       "      <td>2</td>\n",
       "      <td>3</td>\n",
       "    </tr>\n",
       "    <tr>\n",
       "      <th>6</th>\n",
       "      <td>Показать на главной странице баннеры с актуаль...</td>\n",
       "      <td>5</td>\n",
       "      <td>3</td>\n",
       "      <td>8</td>\n",
       "      <td>3</td>\n",
       "    </tr>\n",
       "    <tr>\n",
       "      <th>7</th>\n",
       "      <td>Добавить форму подписки на все основные страни...</td>\n",
       "      <td>10</td>\n",
       "      <td>7</td>\n",
       "      <td>8</td>\n",
       "      <td>5</td>\n",
       "    </tr>\n",
       "    <tr>\n",
       "      <th>8</th>\n",
       "      <td>Запустить акцию, дающую скидку на товар в день...</td>\n",
       "      <td>1</td>\n",
       "      <td>9</td>\n",
       "      <td>9</td>\n",
       "      <td>5</td>\n",
       "    </tr>\n",
       "  </tbody>\n",
       "</table>\n",
       "</div>"
      ],
      "text/plain": [
       "                                          Hypothesis  Reach  Impact  \\\n",
       "0  Добавить два новых канала привлечения трафика,...      3      10   \n",
       "1  Запустить собственную службу доставки, что сок...      2       5   \n",
       "2  Добавить блоки рекомендаций товаров на сайт ин...      8       3   \n",
       "3  Изменить структура категорий, что увеличит кон...      8       3   \n",
       "4  Изменить цвет фона главной страницы, чтобы уве...      3       1   \n",
       "5  Добавить страницу отзывов клиентов о магазине,...      3       2   \n",
       "6  Показать на главной странице баннеры с актуаль...      5       3   \n",
       "7  Добавить форму подписки на все основные страни...     10       7   \n",
       "8  Запустить акцию, дающую скидку на товар в день...      1       9   \n",
       "\n",
       "   Confidence  Efforts  \n",
       "0           8        6  \n",
       "1           4       10  \n",
       "2           7        3  \n",
       "3           3        8  \n",
       "4           1        1  \n",
       "5           2        3  \n",
       "6           8        3  \n",
       "7           8        5  \n",
       "8           9        5  "
      ]
     },
     "execution_count": 2,
     "metadata": {},
     "output_type": "execute_result"
    }
   ],
   "source": [
    "try:\n",
    "    df = pd.read_csv('hypothesis.csv')\n",
    "except:\n",
    "    df = pd.read_csv('https://code.s3.yandex.net/datasets/hypothesis.csv')\n",
    "df"
   ]
  },
  {
   "cell_type": "markdown",
   "id": "8e0bbacc",
   "metadata": {},
   "source": [
    "В таблице представлены гипотезы с соответствующими баллами в столбцах Reach, Impact, Confidence и Efforts - это позволяет применить два фреймворка для приоритезации ICE и RICE."
   ]
  },
  {
   "cell_type": "markdown",
   "id": "27e3a4ee",
   "metadata": {},
   "source": [
    "### Фреймворк ICE\n",
    "Данный фреймворк присваивает каждой гипотезе рейтинг по формуле (Impact x Confidence) / Efforts\n",
    "<br>Добавим в исходный датафрейм колонку ICE и отсортируем по ее значениям:"
   ]
  },
  {
   "cell_type": "code",
   "execution_count": 3,
   "id": "2f24920b",
   "metadata": {},
   "outputs": [
    {
     "data": {
      "text/html": [
       "<div>\n",
       "<style scoped>\n",
       "    .dataframe tbody tr th:only-of-type {\n",
       "        vertical-align: middle;\n",
       "    }\n",
       "\n",
       "    .dataframe tbody tr th {\n",
       "        vertical-align: top;\n",
       "    }\n",
       "\n",
       "    .dataframe thead th {\n",
       "        text-align: right;\n",
       "    }\n",
       "</style>\n",
       "<table border=\"1\" class=\"dataframe\">\n",
       "  <thead>\n",
       "    <tr style=\"text-align: right;\">\n",
       "      <th></th>\n",
       "      <th>Hypothesis</th>\n",
       "      <th>Reach</th>\n",
       "      <th>Impact</th>\n",
       "      <th>Confidence</th>\n",
       "      <th>Efforts</th>\n",
       "      <th>ICE rating</th>\n",
       "    </tr>\n",
       "  </thead>\n",
       "  <tbody>\n",
       "    <tr>\n",
       "      <th>8</th>\n",
       "      <td>Запустить акцию, дающую скидку на товар в день...</td>\n",
       "      <td>1</td>\n",
       "      <td>9</td>\n",
       "      <td>9</td>\n",
       "      <td>5</td>\n",
       "      <td>1</td>\n",
       "    </tr>\n",
       "    <tr>\n",
       "      <th>0</th>\n",
       "      <td>Добавить два новых канала привлечения трафика,...</td>\n",
       "      <td>3</td>\n",
       "      <td>10</td>\n",
       "      <td>8</td>\n",
       "      <td>6</td>\n",
       "      <td>2</td>\n",
       "    </tr>\n",
       "    <tr>\n",
       "      <th>7</th>\n",
       "      <td>Добавить форму подписки на все основные страни...</td>\n",
       "      <td>10</td>\n",
       "      <td>7</td>\n",
       "      <td>8</td>\n",
       "      <td>5</td>\n",
       "      <td>3</td>\n",
       "    </tr>\n",
       "    <tr>\n",
       "      <th>6</th>\n",
       "      <td>Показать на главной странице баннеры с актуаль...</td>\n",
       "      <td>5</td>\n",
       "      <td>3</td>\n",
       "      <td>8</td>\n",
       "      <td>3</td>\n",
       "      <td>4</td>\n",
       "    </tr>\n",
       "    <tr>\n",
       "      <th>2</th>\n",
       "      <td>Добавить блоки рекомендаций товаров на сайт ин...</td>\n",
       "      <td>8</td>\n",
       "      <td>3</td>\n",
       "      <td>7</td>\n",
       "      <td>3</td>\n",
       "      <td>5</td>\n",
       "    </tr>\n",
       "    <tr>\n",
       "      <th>1</th>\n",
       "      <td>Запустить собственную службу доставки, что сок...</td>\n",
       "      <td>2</td>\n",
       "      <td>5</td>\n",
       "      <td>4</td>\n",
       "      <td>10</td>\n",
       "      <td>6</td>\n",
       "    </tr>\n",
       "    <tr>\n",
       "      <th>5</th>\n",
       "      <td>Добавить страницу отзывов клиентов о магазине,...</td>\n",
       "      <td>3</td>\n",
       "      <td>2</td>\n",
       "      <td>2</td>\n",
       "      <td>3</td>\n",
       "      <td>7</td>\n",
       "    </tr>\n",
       "    <tr>\n",
       "      <th>3</th>\n",
       "      <td>Изменить структура категорий, что увеличит кон...</td>\n",
       "      <td>8</td>\n",
       "      <td>3</td>\n",
       "      <td>3</td>\n",
       "      <td>8</td>\n",
       "      <td>8</td>\n",
       "    </tr>\n",
       "    <tr>\n",
       "      <th>4</th>\n",
       "      <td>Изменить цвет фона главной страницы, чтобы уве...</td>\n",
       "      <td>3</td>\n",
       "      <td>1</td>\n",
       "      <td>1</td>\n",
       "      <td>1</td>\n",
       "      <td>9</td>\n",
       "    </tr>\n",
       "  </tbody>\n",
       "</table>\n",
       "</div>"
      ],
      "text/plain": [
       "                                          Hypothesis  Reach  Impact  \\\n",
       "8  Запустить акцию, дающую скидку на товар в день...      1       9   \n",
       "0  Добавить два новых канала привлечения трафика,...      3      10   \n",
       "7  Добавить форму подписки на все основные страни...     10       7   \n",
       "6  Показать на главной странице баннеры с актуаль...      5       3   \n",
       "2  Добавить блоки рекомендаций товаров на сайт ин...      8       3   \n",
       "1  Запустить собственную службу доставки, что сок...      2       5   \n",
       "5  Добавить страницу отзывов клиентов о магазине,...      3       2   \n",
       "3  Изменить структура категорий, что увеличит кон...      8       3   \n",
       "4  Изменить цвет фона главной страницы, чтобы уве...      3       1   \n",
       "\n",
       "   Confidence  Efforts  ICE rating  \n",
       "8           9        5           1  \n",
       "0           8        6           2  \n",
       "7           8        5           3  \n",
       "6           8        3           4  \n",
       "2           7        3           5  \n",
       "1           4       10           6  \n",
       "5           2        3           7  \n",
       "3           3        8           8  \n",
       "4           1        1           9  "
      ]
     },
     "execution_count": 3,
     "metadata": {},
     "output_type": "execute_result"
    }
   ],
   "source": [
    "df['ICE rating'] = (df['Impact'] * df['Confidence']) / df['Efforts']\n",
    "df = df.sort_values(by='ICE rating', ascending=False)\n",
    "df['ICE rating'] = np.arange(1, len(df['ICE rating'])+1)\n",
    "df"
   ]
  },
  {
   "cell_type": "markdown",
   "id": "b2decd35",
   "metadata": {},
   "source": [
    "В верхушке рейтинга приоритетных гипотез - гипотезы с номером 8 и 0, имеющие высокие показатели влияния на результат и уверенности при средних затратах на реализацию. \n",
    "<br>Отметим, что обе эти гипотезы имеют низкий показатель охвата, возможно гипотезы №7 и №2 с высоким показателем охвата и неплохим рейтингом по остальным параметрам, также заслуживают внимания. \n",
    "<br>Чтобы оценить это предположение численно, применим фреймворк RICE"
   ]
  },
  {
   "cell_type": "markdown",
   "id": "81555334",
   "metadata": {},
   "source": [
    "### Фреймворк RICE\n",
    "Данный фреймворк учитывает также параметр Reach - скольких пользователей затронет планируемое изменение. Каждой гипотезе присваивается рейтинг по формуле (Reach x Impact x Confidence) / Efforts\n",
    "<br>Добавим в исходный датафрейм колонку RICE, отсортируем по ее значениям и посмторим в каком порядке выстроится приоритет наших гипотез на этот раз:"
   ]
  },
  {
   "cell_type": "code",
   "execution_count": 4,
   "id": "74e6391b",
   "metadata": {},
   "outputs": [
    {
     "data": {
      "text/html": [
       "<div>\n",
       "<style scoped>\n",
       "    .dataframe tbody tr th:only-of-type {\n",
       "        vertical-align: middle;\n",
       "    }\n",
       "\n",
       "    .dataframe tbody tr th {\n",
       "        vertical-align: top;\n",
       "    }\n",
       "\n",
       "    .dataframe thead th {\n",
       "        text-align: right;\n",
       "    }\n",
       "</style>\n",
       "<table border=\"1\" class=\"dataframe\">\n",
       "  <thead>\n",
       "    <tr style=\"text-align: right;\">\n",
       "      <th></th>\n",
       "      <th>Hypothesis</th>\n",
       "      <th>Reach</th>\n",
       "      <th>Impact</th>\n",
       "      <th>Confidence</th>\n",
       "      <th>Efforts</th>\n",
       "      <th>ICE rating</th>\n",
       "      <th>RICE rating</th>\n",
       "    </tr>\n",
       "  </thead>\n",
       "  <tbody>\n",
       "    <tr>\n",
       "      <th>7</th>\n",
       "      <td>Добавить форму подписки на все основные страни...</td>\n",
       "      <td>10</td>\n",
       "      <td>7</td>\n",
       "      <td>8</td>\n",
       "      <td>5</td>\n",
       "      <td>3</td>\n",
       "      <td>1</td>\n",
       "    </tr>\n",
       "    <tr>\n",
       "      <th>2</th>\n",
       "      <td>Добавить блоки рекомендаций товаров на сайт ин...</td>\n",
       "      <td>8</td>\n",
       "      <td>3</td>\n",
       "      <td>7</td>\n",
       "      <td>3</td>\n",
       "      <td>5</td>\n",
       "      <td>2</td>\n",
       "    </tr>\n",
       "    <tr>\n",
       "      <th>0</th>\n",
       "      <td>Добавить два новых канала привлечения трафика,...</td>\n",
       "      <td>3</td>\n",
       "      <td>10</td>\n",
       "      <td>8</td>\n",
       "      <td>6</td>\n",
       "      <td>2</td>\n",
       "      <td>3</td>\n",
       "    </tr>\n",
       "    <tr>\n",
       "      <th>6</th>\n",
       "      <td>Показать на главной странице баннеры с актуаль...</td>\n",
       "      <td>5</td>\n",
       "      <td>3</td>\n",
       "      <td>8</td>\n",
       "      <td>3</td>\n",
       "      <td>4</td>\n",
       "      <td>4</td>\n",
       "    </tr>\n",
       "    <tr>\n",
       "      <th>8</th>\n",
       "      <td>Запустить акцию, дающую скидку на товар в день...</td>\n",
       "      <td>1</td>\n",
       "      <td>9</td>\n",
       "      <td>9</td>\n",
       "      <td>5</td>\n",
       "      <td>1</td>\n",
       "      <td>5</td>\n",
       "    </tr>\n",
       "    <tr>\n",
       "      <th>3</th>\n",
       "      <td>Изменить структура категорий, что увеличит кон...</td>\n",
       "      <td>8</td>\n",
       "      <td>3</td>\n",
       "      <td>3</td>\n",
       "      <td>8</td>\n",
       "      <td>8</td>\n",
       "      <td>6</td>\n",
       "    </tr>\n",
       "    <tr>\n",
       "      <th>1</th>\n",
       "      <td>Запустить собственную службу доставки, что сок...</td>\n",
       "      <td>2</td>\n",
       "      <td>5</td>\n",
       "      <td>4</td>\n",
       "      <td>10</td>\n",
       "      <td>6</td>\n",
       "      <td>7</td>\n",
       "    </tr>\n",
       "    <tr>\n",
       "      <th>5</th>\n",
       "      <td>Добавить страницу отзывов клиентов о магазине,...</td>\n",
       "      <td>3</td>\n",
       "      <td>2</td>\n",
       "      <td>2</td>\n",
       "      <td>3</td>\n",
       "      <td>7</td>\n",
       "      <td>8</td>\n",
       "    </tr>\n",
       "    <tr>\n",
       "      <th>4</th>\n",
       "      <td>Изменить цвет фона главной страницы, чтобы уве...</td>\n",
       "      <td>3</td>\n",
       "      <td>1</td>\n",
       "      <td>1</td>\n",
       "      <td>1</td>\n",
       "      <td>9</td>\n",
       "      <td>9</td>\n",
       "    </tr>\n",
       "  </tbody>\n",
       "</table>\n",
       "</div>"
      ],
      "text/plain": [
       "                                          Hypothesis  Reach  Impact  \\\n",
       "7  Добавить форму подписки на все основные страни...     10       7   \n",
       "2  Добавить блоки рекомендаций товаров на сайт ин...      8       3   \n",
       "0  Добавить два новых канала привлечения трафика,...      3      10   \n",
       "6  Показать на главной странице баннеры с актуаль...      5       3   \n",
       "8  Запустить акцию, дающую скидку на товар в день...      1       9   \n",
       "3  Изменить структура категорий, что увеличит кон...      8       3   \n",
       "1  Запустить собственную службу доставки, что сок...      2       5   \n",
       "5  Добавить страницу отзывов клиентов о магазине,...      3       2   \n",
       "4  Изменить цвет фона главной страницы, чтобы уве...      3       1   \n",
       "\n",
       "   Confidence  Efforts  ICE rating  RICE rating  \n",
       "7           8        5           3            1  \n",
       "2           7        3           5            2  \n",
       "0           8        6           2            3  \n",
       "6           8        3           4            4  \n",
       "8           9        5           1            5  \n",
       "3           3        8           8            6  \n",
       "1           4       10           6            7  \n",
       "5           2        3           7            8  \n",
       "4           1        1           9            9  "
      ]
     },
     "execution_count": 4,
     "metadata": {},
     "output_type": "execute_result"
    }
   ],
   "source": [
    "df['RICE rating'] = (df['Reach'] * df['Impact'] * df['Confidence']) / df['Efforts']\n",
    "df = df.sort_values(by='RICE rating', ascending=False)\n",
    "df['RICE rating'] = np.arange(1, len(df['RICE rating'])+1)\n",
    "df"
   ]
  },
  {
   "cell_type": "markdown",
   "id": "d43f0b1e",
   "metadata": {},
   "source": [
    "В самом деле, наше предположение подтвердилось - с учетом охвата пользователей гипотезы №7 и №2 являются наиболее приоритетными, а лидеры рецтинга ICE не учитывающего охват аудитории, опустились на 5ое и 3е места соответственно. "
   ]
  },
  {
   "cell_type": "markdown",
   "id": "d5a9f7e7",
   "metadata": {},
   "source": [
    "### Выводы\n",
    "В зависимости от важности параметра охвата аудитории в данном конкретном бизнес-кейсе, приоритетными являются гипотезы №8 и №0 либо №7 и №2. \n",
    "<br>В любом случае, гипотезы №№ 1, 3, 4 и 5 оказываются в хвосте списка и не являются приоритетными. Возможно, стоит дополнительно проработать параметры выявленной пятерки лидеров и окончательно определиться с приоритезацией."
   ]
  },
  {
   "cell_type": "markdown",
   "id": "1ddb7008",
   "metadata": {},
   "source": [
    "## Часть 2. Анализ A/B-теста"
   ]
  },
  {
   "cell_type": "markdown",
   "id": "9c36edda",
   "metadata": {},
   "source": [
    "### Предобработка данных\n",
    "Для анализа предоставлены два датасета:\n",
    "\n",
    "<br> orders содержит следующие поля\n",
    "- transactionId — идентификатор заказа;\n",
    "- visitorId — идентификатор пользователя, совершившего заказ;\n",
    "- date — дата, когда был совершён заказ;\n",
    "- revenue — выручка заказа;\n",
    "- group — группа A/B-теста, в которую попал заказ\n",
    "\n",
    "\n",
    "<br> visitors содержит следующие поля\n",
    "- date — дата;\n",
    "- group — группа A/B-теста;\n",
    "- visitors — количество пользователей в указанную дату в указанной группе A/B-теста"
   ]
  },
  {
   "cell_type": "code",
   "execution_count": 5,
   "id": "8c55183d",
   "metadata": {},
   "outputs": [],
   "source": [
    "try:\n",
    "    orders, visitors = (pd.read_csv('orders.csv'), pd.read_csv('visitors.csv'))\n",
    "except:\n",
    "    orders, visitors = (pd.read_csv('https://code.s3.yandex.net/datasets/orders.csv'), \n",
    "                        pd.read_csv('https://code.s3.yandex.net/datasets/visitors.csv'))"
   ]
  },
  {
   "cell_type": "code",
   "execution_count": 6,
   "id": "0c06178b",
   "metadata": {},
   "outputs": [
    {
     "data": {
      "text/html": [
       "<div>\n",
       "<style scoped>\n",
       "    .dataframe tbody tr th:only-of-type {\n",
       "        vertical-align: middle;\n",
       "    }\n",
       "\n",
       "    .dataframe tbody tr th {\n",
       "        vertical-align: top;\n",
       "    }\n",
       "\n",
       "    .dataframe thead th {\n",
       "        text-align: right;\n",
       "    }\n",
       "</style>\n",
       "<table border=\"1\" class=\"dataframe\">\n",
       "  <thead>\n",
       "    <tr style=\"text-align: right;\">\n",
       "      <th></th>\n",
       "      <th>transactionId</th>\n",
       "      <th>visitorId</th>\n",
       "      <th>date</th>\n",
       "      <th>revenue</th>\n",
       "      <th>group</th>\n",
       "    </tr>\n",
       "  </thead>\n",
       "  <tbody>\n",
       "    <tr>\n",
       "      <th>0</th>\n",
       "      <td>3667963787</td>\n",
       "      <td>3312258926</td>\n",
       "      <td>2019-08-15</td>\n",
       "      <td>1650</td>\n",
       "      <td>B</td>\n",
       "    </tr>\n",
       "    <tr>\n",
       "      <th>1</th>\n",
       "      <td>2804400009</td>\n",
       "      <td>3642806036</td>\n",
       "      <td>2019-08-15</td>\n",
       "      <td>730</td>\n",
       "      <td>B</td>\n",
       "    </tr>\n",
       "    <tr>\n",
       "      <th>2</th>\n",
       "      <td>2961555356</td>\n",
       "      <td>4069496402</td>\n",
       "      <td>2019-08-15</td>\n",
       "      <td>400</td>\n",
       "      <td>A</td>\n",
       "    </tr>\n",
       "    <tr>\n",
       "      <th>3</th>\n",
       "      <td>3797467345</td>\n",
       "      <td>1196621759</td>\n",
       "      <td>2019-08-15</td>\n",
       "      <td>9759</td>\n",
       "      <td>B</td>\n",
       "    </tr>\n",
       "    <tr>\n",
       "      <th>4</th>\n",
       "      <td>2282983706</td>\n",
       "      <td>2322279887</td>\n",
       "      <td>2019-08-15</td>\n",
       "      <td>2308</td>\n",
       "      <td>B</td>\n",
       "    </tr>\n",
       "  </tbody>\n",
       "</table>\n",
       "</div>"
      ],
      "text/plain": [
       "   transactionId   visitorId        date  revenue group\n",
       "0     3667963787  3312258926  2019-08-15     1650     B\n",
       "1     2804400009  3642806036  2019-08-15      730     B\n",
       "2     2961555356  4069496402  2019-08-15      400     A\n",
       "3     3797467345  1196621759  2019-08-15     9759     B\n",
       "4     2282983706  2322279887  2019-08-15     2308     B"
      ]
     },
     "execution_count": 6,
     "metadata": {},
     "output_type": "execute_result"
    }
   ],
   "source": [
    "orders.head()"
   ]
  },
  {
   "cell_type": "code",
   "execution_count": 7,
   "id": "fec2d131",
   "metadata": {},
   "outputs": [
    {
     "name": "stdout",
     "output_type": "stream",
     "text": [
      "<class 'pandas.core.frame.DataFrame'>\n",
      "RangeIndex: 1197 entries, 0 to 1196\n",
      "Data columns (total 5 columns):\n",
      " #   Column         Non-Null Count  Dtype \n",
      "---  ------         --------------  ----- \n",
      " 0   transactionId  1197 non-null   int64 \n",
      " 1   visitorId      1197 non-null   int64 \n",
      " 2   date           1197 non-null   object\n",
      " 3   revenue        1197 non-null   int64 \n",
      " 4   group          1197 non-null   object\n",
      "dtypes: int64(3), object(2)\n",
      "memory usage: 46.9+ KB\n"
     ]
    }
   ],
   "source": [
    "orders.info()"
   ]
  },
  {
   "cell_type": "markdown",
   "id": "6fd9a021",
   "metadata": {},
   "source": [
    "Переведем столбец с датой в соответствующий формат:"
   ]
  },
  {
   "cell_type": "code",
   "execution_count": 8,
   "id": "0f0ef92e",
   "metadata": {},
   "outputs": [],
   "source": [
    "orders['date'] = orders['date'].map(lambda x: dt.datetime.strptime(x, '%Y-%m-%d'))"
   ]
  },
  {
   "cell_type": "markdown",
   "id": "c40973d3",
   "metadata": {},
   "source": [
    "Проверим датасет на наличие явных дубликатов:"
   ]
  },
  {
   "cell_type": "code",
   "execution_count": 9,
   "id": "6a5e7bea",
   "metadata": {},
   "outputs": [
    {
     "data": {
      "text/plain": [
       "0"
      ]
     },
     "execution_count": 9,
     "metadata": {},
     "output_type": "execute_result"
    }
   ],
   "source": [
    "orders.duplicated().sum()"
   ]
  },
  {
   "cell_type": "markdown",
   "id": "f16c013b",
   "metadata": {},
   "source": [
    "Явных дубликатов нет, проверим не затесались ли одни и те же пользователи в обе группы:"
   ]
  },
  {
   "cell_type": "code",
   "execution_count": 10,
   "id": "7ca2fb05",
   "metadata": {},
   "outputs": [
    {
     "data": {
      "text/html": [
       "<div>\n",
       "<style scoped>\n",
       "    .dataframe tbody tr th:only-of-type {\n",
       "        vertical-align: middle;\n",
       "    }\n",
       "\n",
       "    .dataframe tbody tr th {\n",
       "        vertical-align: top;\n",
       "    }\n",
       "\n",
       "    .dataframe thead th {\n",
       "        text-align: right;\n",
       "    }\n",
       "</style>\n",
       "<table border=\"1\" class=\"dataframe\">\n",
       "  <thead>\n",
       "    <tr style=\"text-align: right;\">\n",
       "      <th></th>\n",
       "      <th>transactionId</th>\n",
       "      <th>visitorId</th>\n",
       "      <th>date</th>\n",
       "      <th>revenue</th>\n",
       "      <th>group</th>\n",
       "    </tr>\n",
       "  </thead>\n",
       "  <tbody>\n",
       "    <tr>\n",
       "      <th>703</th>\n",
       "      <td>4293855558</td>\n",
       "      <td>8300375</td>\n",
       "      <td>2019-08-07</td>\n",
       "      <td>1790</td>\n",
       "      <td>A</td>\n",
       "    </tr>\n",
       "    <tr>\n",
       "      <th>71</th>\n",
       "      <td>3679129301</td>\n",
       "      <td>8300375</td>\n",
       "      <td>2019-08-01</td>\n",
       "      <td>10510</td>\n",
       "      <td>B</td>\n",
       "    </tr>\n",
       "    <tr>\n",
       "      <th>823</th>\n",
       "      <td>2971973105</td>\n",
       "      <td>199603092</td>\n",
       "      <td>2019-08-27</td>\n",
       "      <td>2790</td>\n",
       "      <td>A</td>\n",
       "    </tr>\n",
       "    <tr>\n",
       "      <th>246</th>\n",
       "      <td>437656952</td>\n",
       "      <td>199603092</td>\n",
       "      <td>2019-08-02</td>\n",
       "      <td>3488</td>\n",
       "      <td>B</td>\n",
       "    </tr>\n",
       "    <tr>\n",
       "      <th>26</th>\n",
       "      <td>2223239646</td>\n",
       "      <td>199603092</td>\n",
       "      <td>2019-08-15</td>\n",
       "      <td>3488</td>\n",
       "      <td>A</td>\n",
       "    </tr>\n",
       "    <tr>\n",
       "      <th>...</th>\n",
       "      <td>...</td>\n",
       "      <td>...</td>\n",
       "      <td>...</td>\n",
       "      <td>...</td>\n",
       "      <td>...</td>\n",
       "    </tr>\n",
       "    <tr>\n",
       "      <th>187</th>\n",
       "      <td>2048878902</td>\n",
       "      <td>4256040402</td>\n",
       "      <td>2019-08-17</td>\n",
       "      <td>1550</td>\n",
       "      <td>A</td>\n",
       "    </tr>\n",
       "    <tr>\n",
       "      <th>114</th>\n",
       "      <td>1120327437</td>\n",
       "      <td>4256040402</td>\n",
       "      <td>2019-08-01</td>\n",
       "      <td>5800</td>\n",
       "      <td>A</td>\n",
       "    </tr>\n",
       "    <tr>\n",
       "      <th>60</th>\n",
       "      <td>1421016313</td>\n",
       "      <td>4256040402</td>\n",
       "      <td>2019-08-16</td>\n",
       "      <td>56650</td>\n",
       "      <td>B</td>\n",
       "    </tr>\n",
       "    <tr>\n",
       "      <th>662</th>\n",
       "      <td>1811671147</td>\n",
       "      <td>4266935830</td>\n",
       "      <td>2019-08-29</td>\n",
       "      <td>78990</td>\n",
       "      <td>A</td>\n",
       "    </tr>\n",
       "    <tr>\n",
       "      <th>682</th>\n",
       "      <td>1216533772</td>\n",
       "      <td>4266935830</td>\n",
       "      <td>2019-08-29</td>\n",
       "      <td>78990</td>\n",
       "      <td>B</td>\n",
       "    </tr>\n",
       "  </tbody>\n",
       "</table>\n",
       "<p>181 rows × 5 columns</p>\n",
       "</div>"
      ],
      "text/plain": [
       "     transactionId   visitorId       date  revenue group\n",
       "703     4293855558     8300375 2019-08-07     1790     A\n",
       "71      3679129301     8300375 2019-08-01    10510     B\n",
       "823     2971973105   199603092 2019-08-27     2790     A\n",
       "246      437656952   199603092 2019-08-02     3488     B\n",
       "26      2223239646   199603092 2019-08-15     3488     A\n",
       "..             ...         ...        ...      ...   ...\n",
       "187     2048878902  4256040402 2019-08-17     1550     A\n",
       "114     1120327437  4256040402 2019-08-01     5800     A\n",
       "60      1421016313  4256040402 2019-08-16    56650     B\n",
       "662     1811671147  4266935830 2019-08-29    78990     A\n",
       "682     1216533772  4266935830 2019-08-29    78990     B\n",
       "\n",
       "[181 rows x 5 columns]"
      ]
     },
     "execution_count": 10,
     "metadata": {},
     "output_type": "execute_result"
    }
   ],
   "source": [
    "both_groups = orders.groupby(['visitorId']).agg({'group' : 'nunique'}).reset_index()\n",
    "both_groups = both_groups.query('group > 1')\n",
    "bl = list(both_groups['visitorId'])\n",
    "bad_guys = orders.query('visitorId in @bl')\n",
    "bad_guys.sort_values(by='visitorId')"
   ]
  },
  {
   "cell_type": "markdown",
   "id": "81416511",
   "metadata": {},
   "source": [
    "Итого 181 заказ, в котором есть повод сомневаться.. например, глядя на последние две строчки - заказ очень похоже попал и в группу А и в В по какой-то технической ошибке. В любом случае, пользователей, которые попали в обе группы стоит удалить для чистоты эксперимента - в нашей таблице останется более 1000 строк, чего хватит для исследования."
   ]
  },
  {
   "cell_type": "code",
   "execution_count": 11,
   "id": "2ab6bfa5",
   "metadata": {},
   "outputs": [],
   "source": [
    "orders = orders.query('visitorId not in @bl')"
   ]
  },
  {
   "cell_type": "markdown",
   "id": "29ae6785",
   "metadata": {},
   "source": [
    "Проверим столбцы с датой, выручкой и группой на аномальные значения:"
   ]
  },
  {
   "cell_type": "code",
   "execution_count": 12,
   "id": "df15f35d",
   "metadata": {},
   "outputs": [
    {
     "name": "stdout",
     "output_type": "stream",
     "text": [
      "2019-08-31 00:00:00\n",
      "2019-08-01 00:00:00\n"
     ]
    }
   ],
   "source": [
    "print(orders['date'].max())\n",
    "print(orders['date'].min())"
   ]
  },
  {
   "cell_type": "code",
   "execution_count": 13,
   "id": "2095db1f",
   "metadata": {},
   "outputs": [
    {
     "name": "stdout",
     "output_type": "stream",
     "text": [
      "50\n",
      "1294500\n"
     ]
    }
   ],
   "source": [
    "print(orders['revenue'].min())\n",
    "print(orders['revenue'].max())"
   ]
  },
  {
   "cell_type": "code",
   "execution_count": 14,
   "id": "3ca36952",
   "metadata": {},
   "outputs": [
    {
     "data": {
      "text/plain": [
       "array(['B', 'A'], dtype=object)"
      ]
     },
     "execution_count": 14,
     "metadata": {},
     "output_type": "execute_result"
    }
   ],
   "source": [
    "orders['group'].unique()"
   ]
  },
  {
   "cell_type": "markdown",
   "id": "c2596f81",
   "metadata": {},
   "source": [
    "Данные корректны, дубликатов нет, период исследования - август 2019го года, данные о выручке представлены положительными числами, А/В тест проведен по двум группам.\n",
    "\n",
    "<br>Проведем аналогичную проверку для датасета visitors"
   ]
  },
  {
   "cell_type": "code",
   "execution_count": 15,
   "id": "314cd92d",
   "metadata": {},
   "outputs": [
    {
     "data": {
      "text/html": [
       "<div>\n",
       "<style scoped>\n",
       "    .dataframe tbody tr th:only-of-type {\n",
       "        vertical-align: middle;\n",
       "    }\n",
       "\n",
       "    .dataframe tbody tr th {\n",
       "        vertical-align: top;\n",
       "    }\n",
       "\n",
       "    .dataframe thead th {\n",
       "        text-align: right;\n",
       "    }\n",
       "</style>\n",
       "<table border=\"1\" class=\"dataframe\">\n",
       "  <thead>\n",
       "    <tr style=\"text-align: right;\">\n",
       "      <th></th>\n",
       "      <th>date</th>\n",
       "      <th>group</th>\n",
       "      <th>visitors</th>\n",
       "    </tr>\n",
       "  </thead>\n",
       "  <tbody>\n",
       "    <tr>\n",
       "      <th>0</th>\n",
       "      <td>2019-08-01</td>\n",
       "      <td>A</td>\n",
       "      <td>719</td>\n",
       "    </tr>\n",
       "    <tr>\n",
       "      <th>1</th>\n",
       "      <td>2019-08-02</td>\n",
       "      <td>A</td>\n",
       "      <td>619</td>\n",
       "    </tr>\n",
       "    <tr>\n",
       "      <th>2</th>\n",
       "      <td>2019-08-03</td>\n",
       "      <td>A</td>\n",
       "      <td>507</td>\n",
       "    </tr>\n",
       "    <tr>\n",
       "      <th>3</th>\n",
       "      <td>2019-08-04</td>\n",
       "      <td>A</td>\n",
       "      <td>717</td>\n",
       "    </tr>\n",
       "    <tr>\n",
       "      <th>4</th>\n",
       "      <td>2019-08-05</td>\n",
       "      <td>A</td>\n",
       "      <td>756</td>\n",
       "    </tr>\n",
       "  </tbody>\n",
       "</table>\n",
       "</div>"
      ],
      "text/plain": [
       "         date group  visitors\n",
       "0  2019-08-01     A       719\n",
       "1  2019-08-02     A       619\n",
       "2  2019-08-03     A       507\n",
       "3  2019-08-04     A       717\n",
       "4  2019-08-05     A       756"
      ]
     },
     "execution_count": 15,
     "metadata": {},
     "output_type": "execute_result"
    }
   ],
   "source": [
    "visitors.head()"
   ]
  },
  {
   "cell_type": "code",
   "execution_count": 16,
   "id": "ef8c0a59",
   "metadata": {},
   "outputs": [
    {
     "name": "stdout",
     "output_type": "stream",
     "text": [
      "<class 'pandas.core.frame.DataFrame'>\n",
      "RangeIndex: 62 entries, 0 to 61\n",
      "Data columns (total 3 columns):\n",
      " #   Column    Non-Null Count  Dtype \n",
      "---  ------    --------------  ----- \n",
      " 0   date      62 non-null     object\n",
      " 1   group     62 non-null     object\n",
      " 2   visitors  62 non-null     int64 \n",
      "dtypes: int64(1), object(2)\n",
      "memory usage: 1.6+ KB\n"
     ]
    }
   ],
   "source": [
    "visitors.info()"
   ]
  },
  {
   "cell_type": "code",
   "execution_count": 17,
   "id": "5ad72f07",
   "metadata": {},
   "outputs": [],
   "source": [
    "visitors['date'] = visitors['date'].map(lambda x: dt.datetime.strptime(x, '%Y-%m-%d'))"
   ]
  },
  {
   "cell_type": "code",
   "execution_count": 18,
   "id": "3e172dfb",
   "metadata": {},
   "outputs": [
    {
     "data": {
      "text/plain": [
       "0"
      ]
     },
     "execution_count": 18,
     "metadata": {},
     "output_type": "execute_result"
    }
   ],
   "source": [
    "visitors.duplicated().sum()"
   ]
  },
  {
   "cell_type": "code",
   "execution_count": 19,
   "id": "04569645",
   "metadata": {},
   "outputs": [
    {
     "name": "stdout",
     "output_type": "stream",
     "text": [
      "2019-08-01 00:00:00\n",
      "2019-08-31 00:00:00\n"
     ]
    }
   ],
   "source": [
    "print(visitors['date'].min())\n",
    "print(visitors['date'].max())"
   ]
  },
  {
   "cell_type": "code",
   "execution_count": 20,
   "id": "2dcd308a",
   "metadata": {},
   "outputs": [
    {
     "data": {
      "text/plain": [
       "array(['A', 'B'], dtype=object)"
      ]
     },
     "execution_count": 20,
     "metadata": {},
     "output_type": "execute_result"
    }
   ],
   "source": [
    "visitors['group'].unique()"
   ]
  },
  {
   "cell_type": "code",
   "execution_count": 21,
   "id": "7489e4e9",
   "metadata": {},
   "outputs": [
    {
     "name": "stdout",
     "output_type": "stream",
     "text": [
      "361\n",
      "770\n"
     ]
    }
   ],
   "source": [
    "print(visitors['visitors'].min())\n",
    "print(visitors['visitors'].max())"
   ]
  },
  {
   "cell_type": "markdown",
   "id": "05642275",
   "metadata": {},
   "source": [
    "В датасете visitors также не обнаружено аномалий, даты совпадают с датами в orders, также две исследуемые группы."
   ]
  },
  {
   "cell_type": "markdown",
   "id": "44fcbbae",
   "metadata": {},
   "source": [
    "### Анализ А/В теста\n"
   ]
  },
  {
   "cell_type": "markdown",
   "id": "e9950375",
   "metadata": {},
   "source": [
    "#### Подготовка данных"
   ]
  },
  {
   "cell_type": "code",
   "execution_count": 22,
   "id": "1f92527f",
   "metadata": {},
   "outputs": [
    {
     "data": {
      "text/html": [
       "<div>\n",
       "<style scoped>\n",
       "    .dataframe tbody tr th:only-of-type {\n",
       "        vertical-align: middle;\n",
       "    }\n",
       "\n",
       "    .dataframe tbody tr th {\n",
       "        vertical-align: top;\n",
       "    }\n",
       "\n",
       "    .dataframe thead th {\n",
       "        text-align: right;\n",
       "    }\n",
       "</style>\n",
       "<table border=\"1\" class=\"dataframe\">\n",
       "  <thead>\n",
       "    <tr style=\"text-align: right;\">\n",
       "      <th></th>\n",
       "      <th>date</th>\n",
       "      <th>group</th>\n",
       "      <th>transactionId</th>\n",
       "      <th>visitorId</th>\n",
       "      <th>revenue</th>\n",
       "    </tr>\n",
       "  </thead>\n",
       "  <tbody>\n",
       "    <tr>\n",
       "      <th>0</th>\n",
       "      <td>2019-08-01</td>\n",
       "      <td>A</td>\n",
       "      <td>23</td>\n",
       "      <td>19</td>\n",
       "      <td>142779</td>\n",
       "    </tr>\n",
       "    <tr>\n",
       "      <th>1</th>\n",
       "      <td>2019-08-01</td>\n",
       "      <td>B</td>\n",
       "      <td>17</td>\n",
       "      <td>17</td>\n",
       "      <td>59758</td>\n",
       "    </tr>\n",
       "    <tr>\n",
       "      <th>2</th>\n",
       "      <td>2019-08-02</td>\n",
       "      <td>A</td>\n",
       "      <td>42</td>\n",
       "      <td>37</td>\n",
       "      <td>234381</td>\n",
       "    </tr>\n",
       "    <tr>\n",
       "      <th>3</th>\n",
       "      <td>2019-08-02</td>\n",
       "      <td>B</td>\n",
       "      <td>40</td>\n",
       "      <td>39</td>\n",
       "      <td>221801</td>\n",
       "    </tr>\n",
       "    <tr>\n",
       "      <th>4</th>\n",
       "      <td>2019-08-03</td>\n",
       "      <td>A</td>\n",
       "      <td>66</td>\n",
       "      <td>61</td>\n",
       "      <td>346854</td>\n",
       "    </tr>\n",
       "  </tbody>\n",
       "</table>\n",
       "</div>"
      ],
      "text/plain": [
       "        date group  transactionId  visitorId  revenue\n",
       "0 2019-08-01     A             23         19   142779\n",
       "1 2019-08-01     B             17         17    59758\n",
       "2 2019-08-02     A             42         37   234381\n",
       "3 2019-08-02     B             40         39   221801\n",
       "4 2019-08-03     A             66         61   346854"
      ]
     },
     "execution_count": 22,
     "metadata": {},
     "output_type": "execute_result"
    }
   ],
   "source": [
    "orders_cumsum = (orders.groupby(['date','group'])\n",
    "                        .agg({'transactionId':'nunique','visitorId':'nunique','revenue':'sum'})).reset_index()\n",
    "orders_cumsum[['transactionId', 'visitorId', 'revenue']] = (\n",
    "    orders_cumsum.groupby('group')[['transactionId', 'visitorId', 'revenue']].cumsum())\n",
    "orders_cumsum.head()"
   ]
  },
  {
   "cell_type": "code",
   "execution_count": 23,
   "id": "f928df96",
   "metadata": {},
   "outputs": [
    {
     "data": {
      "text/html": [
       "<div>\n",
       "<style scoped>\n",
       "    .dataframe tbody tr th:only-of-type {\n",
       "        vertical-align: middle;\n",
       "    }\n",
       "\n",
       "    .dataframe tbody tr th {\n",
       "        vertical-align: top;\n",
       "    }\n",
       "\n",
       "    .dataframe thead th {\n",
       "        text-align: right;\n",
       "    }\n",
       "</style>\n",
       "<table border=\"1\" class=\"dataframe\">\n",
       "  <thead>\n",
       "    <tr style=\"text-align: right;\">\n",
       "      <th></th>\n",
       "      <th>date</th>\n",
       "      <th>group</th>\n",
       "      <th>visitors</th>\n",
       "    </tr>\n",
       "  </thead>\n",
       "  <tbody>\n",
       "    <tr>\n",
       "      <th>0</th>\n",
       "      <td>2019-08-01</td>\n",
       "      <td>A</td>\n",
       "      <td>719</td>\n",
       "    </tr>\n",
       "    <tr>\n",
       "      <th>1</th>\n",
       "      <td>2019-08-01</td>\n",
       "      <td>B</td>\n",
       "      <td>713</td>\n",
       "    </tr>\n",
       "    <tr>\n",
       "      <th>2</th>\n",
       "      <td>2019-08-02</td>\n",
       "      <td>A</td>\n",
       "      <td>1338</td>\n",
       "    </tr>\n",
       "    <tr>\n",
       "      <th>3</th>\n",
       "      <td>2019-08-02</td>\n",
       "      <td>B</td>\n",
       "      <td>1294</td>\n",
       "    </tr>\n",
       "    <tr>\n",
       "      <th>4</th>\n",
       "      <td>2019-08-03</td>\n",
       "      <td>A</td>\n",
       "      <td>1845</td>\n",
       "    </tr>\n",
       "  </tbody>\n",
       "</table>\n",
       "</div>"
      ],
      "text/plain": [
       "        date group  visitors\n",
       "0 2019-08-01     A       719\n",
       "1 2019-08-01     B       713\n",
       "2 2019-08-02     A      1338\n",
       "3 2019-08-02     B      1294\n",
       "4 2019-08-03     A      1845"
      ]
     },
     "execution_count": 23,
     "metadata": {},
     "output_type": "execute_result"
    }
   ],
   "source": [
    "visitors_cumsum = (visitors.groupby(['date','group'])\n",
    "                           .agg({'visitors':'sum'})\n",
    "                           .reset_index())\n",
    "visitors_cumsum['visitors'] = visitors_cumsum.groupby('group').cumsum()\n",
    "visitors_cumsum.head()"
   ]
  },
  {
   "cell_type": "code",
   "execution_count": 24,
   "id": "09e4ae22",
   "metadata": {},
   "outputs": [
    {
     "data": {
      "text/html": [
       "<div>\n",
       "<style scoped>\n",
       "    .dataframe tbody tr th:only-of-type {\n",
       "        vertical-align: middle;\n",
       "    }\n",
       "\n",
       "    .dataframe tbody tr th {\n",
       "        vertical-align: top;\n",
       "    }\n",
       "\n",
       "    .dataframe thead th {\n",
       "        text-align: right;\n",
       "    }\n",
       "</style>\n",
       "<table border=\"1\" class=\"dataframe\">\n",
       "  <thead>\n",
       "    <tr style=\"text-align: right;\">\n",
       "      <th></th>\n",
       "      <th>date</th>\n",
       "      <th>group</th>\n",
       "      <th>orders</th>\n",
       "      <th>buyers</th>\n",
       "      <th>revenue</th>\n",
       "      <th>visitors</th>\n",
       "    </tr>\n",
       "  </thead>\n",
       "  <tbody>\n",
       "    <tr>\n",
       "      <th>0</th>\n",
       "      <td>2019-08-01</td>\n",
       "      <td>A</td>\n",
       "      <td>23</td>\n",
       "      <td>19</td>\n",
       "      <td>142779</td>\n",
       "      <td>719</td>\n",
       "    </tr>\n",
       "    <tr>\n",
       "      <th>1</th>\n",
       "      <td>2019-08-01</td>\n",
       "      <td>B</td>\n",
       "      <td>17</td>\n",
       "      <td>17</td>\n",
       "      <td>59758</td>\n",
       "      <td>713</td>\n",
       "    </tr>\n",
       "    <tr>\n",
       "      <th>2</th>\n",
       "      <td>2019-08-02</td>\n",
       "      <td>A</td>\n",
       "      <td>42</td>\n",
       "      <td>37</td>\n",
       "      <td>234381</td>\n",
       "      <td>1338</td>\n",
       "    </tr>\n",
       "    <tr>\n",
       "      <th>3</th>\n",
       "      <td>2019-08-02</td>\n",
       "      <td>B</td>\n",
       "      <td>40</td>\n",
       "      <td>39</td>\n",
       "      <td>221801</td>\n",
       "      <td>1294</td>\n",
       "    </tr>\n",
       "    <tr>\n",
       "      <th>4</th>\n",
       "      <td>2019-08-03</td>\n",
       "      <td>A</td>\n",
       "      <td>66</td>\n",
       "      <td>61</td>\n",
       "      <td>346854</td>\n",
       "      <td>1845</td>\n",
       "    </tr>\n",
       "  </tbody>\n",
       "</table>\n",
       "</div>"
      ],
      "text/plain": [
       "        date group  orders  buyers  revenue  visitors\n",
       "0 2019-08-01     A      23      19   142779       719\n",
       "1 2019-08-01     B      17      17    59758       713\n",
       "2 2019-08-02     A      42      37   234381      1338\n",
       "3 2019-08-02     B      40      39   221801      1294\n",
       "4 2019-08-03     A      66      61   346854      1845"
      ]
     },
     "execution_count": 24,
     "metadata": {},
     "output_type": "execute_result"
    }
   ],
   "source": [
    "cum_data = orders_cumsum.merge(visitors_cumsum, on=['date', 'group'])\n",
    "cum_data.columns = ['date', 'group', 'orders', 'buyers', 'revenue', 'visitors']\n",
    "\n",
    "cum_data.head()"
   ]
  },
  {
   "cell_type": "markdown",
   "id": "745b4595",
   "metadata": {},
   "source": [
    "#### График кумулятивной выручки по группам\n",
    "По подготовленным в предыдущем разделе данным построим график кумулятивной выручки с разбивкой по тестируемым группам:"
   ]
  },
  {
   "cell_type": "code",
   "execution_count": 25,
   "id": "ec0deffa",
   "metadata": {},
   "outputs": [
    {
     "data": {
      "image/png": "[encoded data removed]",
      "text/plain": [
       "<Figure size 640x480 with 1 Axes>"
      ]
     },
     "metadata": {},
     "output_type": "display_data"
    }
   ],
   "source": [
    "ax = sns.lineplot(\n",
    "    x='date', \n",
    "    y='revenue', \n",
    "    data=cum_data,\n",
    "    hue = 'group');\n",
    "ax.set(xlabel='Дата', ylabel='Выручка')\n",
    "ax.set_title('График кумулятивной выручки по группам')\n",
    "ax.tick_params(axis='x', rotation=40)\n",
    "plt.legend();"
   ]
  },
  {
   "cell_type": "markdown",
   "id": "b880b3c0",
   "metadata": {},
   "source": [
    "Выручка по группе В выше или практически такая же, как в группе А до 18го августа, когда произошел резкий скачек, вероятно вызванный аномально крупным заказом или еще чем-то, что мы выясним далее по ходу исследования.\n",
    "<br>Не считая этого выброса обе группы демонстрируют равномерный линейный рост кумулятивной выручки."
   ]
  },
  {
   "cell_type": "markdown",
   "id": "082cc2a7",
   "metadata": {},
   "source": [
    "#### График кумулятивного среднего чека по группам\n",
    "График среднего чека построим разделив выручку на количество заказов:"
   ]
  },
  {
   "cell_type": "code",
   "execution_count": 26,
   "id": "a29949d5",
   "metadata": {},
   "outputs": [
    {
     "data": {
      "image/png": "[encoded data removed]",
      "text/plain": [
       "<Figure size 640x480 with 1 Axes>"
      ]
     },
     "metadata": {},
     "output_type": "display_data"
    }
   ],
   "source": [
    "ax = sns.lineplot(\n",
    "    x='date', \n",
    "    y=cum_data['revenue']/cum_data['orders'], \n",
    "    data=cum_data,\n",
    "    hue = 'group');\n",
    "ax.set(xlabel='Дата', ylabel='Средний чек')\n",
    "ax.set_title('График кумулятивного среднего чека по группам')\n",
    "ax.tick_params(axis='x', rotation=40)\n",
    "plt.legend();"
   ]
  },
  {
   "cell_type": "markdown",
   "id": "cafa2ecf",
   "metadata": {},
   "source": [
    "Динамика группы В невнятная. Со второго дня идет уверенное опережение группы А, а затем происходит спад. Тот же самый выброс от 18го августа резко меняет картину, но без него группа В скорее всего так и не опередила бы контрольную. По-прежнему необходимо разобраться с природой аномалии от 18го августа. На графиках присутствуют и другие, менее резкие изломы, скорее всего вызванные аномально большими заказами.\n",
    "<br> Можно с натяжкой сказать, что в контрольной группе показания через 2 недели стабилизировались около уровня 7000, в группе В - нет."
   ]
  },
  {
   "cell_type": "markdown",
   "id": "961a88ba",
   "metadata": {},
   "source": [
    "#### График относительного изменения кумулятивного среднего чека группы B к группе A\n",
    "Посмотрим на относительное изменение среднего чека.\n",
    "<br> Выделим два датасета по группам а затем соединим их по дате, чтобы получить для каждой группы отдельную колонку с кумулятивными данными выручки и количества заказов. По ним посчитаем средний чек для каждой группы отдельно и найдем отношение."
   ]
  },
  {
   "cell_type": "code",
   "execution_count": 27,
   "id": "5ee600a5",
   "metadata": {},
   "outputs": [],
   "source": [
    "cum_revenueA = cum_data[cum_data['group'] == 'A'][['date', 'revenue', 'orders']]\n",
    "cum_revenueB = cum_data[cum_data['group'] == 'B'][['date', 'revenue', 'orders']]\n",
    "merged_cum_revenue = cum_revenueA.merge(cum_revenueB, on='date', suffixes=['A', 'B'])"
   ]
  },
  {
   "cell_type": "code",
   "execution_count": 28,
   "id": "7fb8d34f",
   "metadata": {},
   "outputs": [
    {
     "data": {
      "image/png": "[encoded data removed]",
      "text/plain": [
       "<Figure size 640x480 with 1 Axes>"
      ]
     },
     "metadata": {},
     "output_type": "display_data"
    }
   ],
   "source": [
    "plt.plot(merged_cum_revenue['date'], (merged_cum_revenue['revenueB'] / merged_cum_revenue['ordersB']) / \n",
    "         (merged_cum_revenue['revenueA'] / merged_cum_revenue['ordersA']) - 1)\n",
    "plt.axhline(y=0, color='red', linestyle='--')\n",
    "plt.title('График относительного изменения кумулятивного среднего чека группы B к группе A')\n",
    "plt.xlabel('Дата');\n",
    "plt.xticks(rotation=45);"
   ]
  },
  {
   "cell_type": "markdown",
   "id": "913c27bb",
   "metadata": {},
   "source": [
    "Данный график демонстрирует ту же самую картину -  на второй день средний чек группы В превосходит контрольную, но уже через неделю начинает терять преимущество, а через две недели сравнивается и даже становится меньше, чем группы А. Затем происходит резкий выброс, за которым снова следует спад. О стабилизации показаний говорить не приходится. "
   ]
  },
  {
   "cell_type": "markdown",
   "id": "34d0ebd6",
   "metadata": {},
   "source": [
    "#### График кумулятивного среднего количества заказов на посетителя (конверсии) по группам \n",
    "Конверсию найдем отношением числа заказов к числу посещений. Параметр hue позволит разделить показатели по группам на графике."
   ]
  },
  {
   "cell_type": "code",
   "execution_count": 29,
   "id": "915b4d7a",
   "metadata": {},
   "outputs": [
    {
     "data": {
      "image/png": "[encoded data removed]",
      "text/plain": [
       "<Figure size 640x480 with 1 Axes>"
      ]
     },
     "metadata": {},
     "output_type": "display_data"
    }
   ],
   "source": [
    "ax = sns.lineplot(\n",
    "    x='date', \n",
    "    y=cum_data['orders']/cum_data['visitors'], \n",
    "    data=cum_data,\n",
    "    hue = 'group');\n",
    "ax.set(xlabel='Дата', ylabel='Конверсия')\n",
    "ax.set_title('График кумулятивной конверсии по группам')\n",
    "ax.tick_params(axis='x', rotation=40)\n",
    "plt.legend();"
   ]
  },
  {
   "cell_type": "markdown",
   "id": "43940061",
   "metadata": {},
   "source": [
    "После колебаний первых дней, конверсия опытной группы В стабильно выше контрольной группы А, какой-либо ярковыраженный тренд не наблюдается, для этого посмотрим на относительное изменение конверсии В к А."
   ]
  },
  {
   "cell_type": "markdown",
   "id": "79d19753",
   "metadata": {},
   "source": [
    "#### График относительного изменения кумулятивного среднего количества заказов на посетителя (конверсии) группы B к группе A\n",
    "По аналогии с построением отношения средних чеков, выделим две таблицы по группам с данными о количестве посещений и заказов, и соединим их по дате, чтобы вычислить конверсию по группам и, соответственно, интересующее нас отношение:"
   ]
  },
  {
   "cell_type": "code",
   "execution_count": 30,
   "id": "bea72133",
   "metadata": {},
   "outputs": [],
   "source": [
    "cum_convA = cum_data[cum_data['group'] == 'A'][['date', 'orders', 'visitors']]\n",
    "cum_convB = cum_data[cum_data['group'] == 'B'][['date', 'orders', 'visitors']]\n",
    "merged_cum_conv = cum_convA.merge(cum_convB, on='date', suffixes=['A', 'B'])"
   ]
  },
  {
   "cell_type": "code",
   "execution_count": 31,
   "id": "9e01b394",
   "metadata": {},
   "outputs": [
    {
     "data": {
      "image/png": "[encoded data removed]",
      "text/plain": [
       "<Figure size 640x480 with 1 Axes>"
      ]
     },
     "metadata": {},
     "output_type": "display_data"
    }
   ],
   "source": [
    "plt.plot(merged_cum_conv['date'], (merged_cum_conv['ordersB'] / merged_cum_conv['visitorsB']) / \n",
    "         (merged_cum_conv['ordersA'] / merged_cum_conv['visitorsA']) - 1)\n",
    "plt.axhline(y=0, color='red', linestyle='--')\n",
    "plt.axhline(y=0.12, color='green', linestyle='dotted')\n",
    "plt.xlabel('Дата')\n",
    "plt.title('График относительного изменения кумулятивной конверсии группы B к группе A');\n",
    "plt.xticks(rotation=45);"
   ]
  },
  {
   "cell_type": "markdown",
   "id": "fc5a3db8",
   "metadata": {},
   "source": [
    "Подтверждается, что конверсия группы В стабильно выше, чем А, уровень отношения 0.12 выглядит подобием уровня поддержки, сделать вывод, что наблюдения стабилизировались можно с натяжкой. Скорее можно уже утверждать, что конверсия группы стабильно В лучше, чем группы А, но если надо обязательно ответить на вопрос во сколько раз, нужно продолжать тестирование до полной стабилизации."
   ]
  },
  {
   "cell_type": "markdown",
   "id": "6ea17452",
   "metadata": {},
   "source": [
    "#### Точечный график количества заказов по пользователям\n",
    "Для поиска аномалий, которые возможно, повлияли на ход исследования, посмотрим какое количество заказов совершают пользователи, и есть ли в данных аномальные значения. Проще всего увидеть это на простой точечной диаграмме. Для ее построения сгруппируем таблицу заказов по пользователям и подсчитаем количество заказов:"
   ]
  },
  {
   "cell_type": "code",
   "execution_count": 32,
   "id": "ac264fde",
   "metadata": {},
   "outputs": [],
   "source": [
    "orders_by_users = (orders.pivot_table(index='visitorId', values='transactionId', aggfunc='nunique')\n",
    "                          .reset_index()\n",
    "                          .rename(columns={'transactionId':'orders'}))"
   ]
  },
  {
   "cell_type": "code",
   "execution_count": 33,
   "id": "69cb2467",
   "metadata": {},
   "outputs": [
    {
     "data": {
      "image/png": "[encoded data removed]",
      "text/plain": [
       "<Figure size 640x480 with 1 Axes>"
      ]
     },
     "metadata": {},
     "output_type": "display_data"
    }
   ],
   "source": [
    "ax = sns.scatterplot(x='visitorId', y='orders', data=orders_by_users);\n",
    "ax.set(xlabel='Пользователи', ylabel='Количество заказов')\n",
    "ax.set(xticklabels=[])\n",
    "ax.set_title('Количество заказов по пользователям');"
   ]
  },
  {
   "cell_type": "markdown",
   "id": "82fc8664",
   "metadata": {},
   "source": [
    "Большинство пользователей сделали всего один заказ. Чтобы определить границу для аномальных пользователей подсчитаем перцентили количества заказов на пользователя"
   ]
  },
  {
   "cell_type": "markdown",
   "id": "c6feb456",
   "metadata": {},
   "source": [
    "#### 95-й и 99-й перцентили количества заказов на пользователя\n",
    "Перцентили найдем встроенным методом np.percentile()"
   ]
  },
  {
   "cell_type": "code",
   "execution_count": 34,
   "id": "99203bfe",
   "metadata": {},
   "outputs": [
    {
     "name": "stdout",
     "output_type": "stream",
     "text": [
      "95-й перцентиль кол-ва заказов на пользователя:  [1.]\n",
      "99-й перцентиль кол-ва заказов на пользователя:  [2.]\n"
     ]
    }
   ],
   "source": [
    "print('95-й перцентиль кол-ва заказов на пользователя: ', np.percentile(orders_by_users['orders'], [95]))\n",
    "print('99-й перцентиль кол-ва заказов на пользователя: ', np.percentile(orders_by_users['orders'], [99]))"
   ]
  },
  {
   "cell_type": "markdown",
   "id": "c7f43554",
   "metadata": {},
   "source": [
    "Исходя из этих данных и руководствуясь правилом отсеивать от 1 до 5% пользователей, можно считать аномальными пользователей, совершивших более одного заказа.\n",
    "\n",
    "<br>Повторим упражнение для стоимости заказа."
   ]
  },
  {
   "cell_type": "markdown",
   "id": "a7956b14",
   "metadata": {},
   "source": [
    "#### Точечный график стоимостей заказов\n",
    "Данные о сумме заказа есть в исходных данных orders"
   ]
  },
  {
   "cell_type": "code",
   "execution_count": 35,
   "id": "248ddae2",
   "metadata": {},
   "outputs": [
    {
     "data": {
      "image/png": "[encoded data removed]",
      "text/plain": [
       "<Figure size 640x480 with 1 Axes>"
      ]
     },
     "metadata": {},
     "output_type": "display_data"
    }
   ],
   "source": [
    "ax = sns.scatterplot(x='visitorId', y='revenue', data=orders);\n",
    "ax.set(xlabel='Пользователи', ylabel='Сумма заказа')\n",
    "ax.set(xticklabels=[])\n",
    "ax.set_title('Сумма заказа по пользователям');"
   ]
  },
  {
   "cell_type": "markdown",
   "id": "e686f58b",
   "metadata": {},
   "source": [
    "Из графика видно два отчетливых выброса - на двести тысяч и на миллион двести. Очень вероятно, что последний ответственен за излом 18го августа на первых графиках нашего исследования. Из-за этого выброса точечная диаграмма совсем неинформативна, построим ее еще раз с лимитом по оси ординат:"
   ]
  },
  {
   "cell_type": "code",
   "execution_count": 36,
   "id": "8269abc1",
   "metadata": {},
   "outputs": [
    {
     "data": {
      "text/plain": [
       "(0.0, 100000.0)"
      ]
     },
     "execution_count": 36,
     "metadata": {},
     "output_type": "execute_result"
    },
    {
     "data": {
      "image/png": "[encoded data removed]",
      "text/plain": [
       "<Figure size 640x480 with 1 Axes>"
      ]
     },
     "metadata": {},
     "output_type": "display_data"
    }
   ],
   "source": [
    "ax = sns.scatterplot(x='visitorId', y='revenue', data=orders);\n",
    "ax.set(xlabel='Пользователи', ylabel='Сумма заказа, у.е.')\n",
    "ax.set(xticklabels=[])\n",
    "ax.set_title('Сумма заказа по пользователям')\n",
    "plt.ylim(0,100000)"
   ]
  },
  {
   "cell_type": "markdown",
   "id": "34b8996a",
   "metadata": {},
   "source": [
    "Из этого графика видно, что граница аномалии пройдет где-то между 20 и 40 тысячами. Выясним это, подсчитав перцентили."
   ]
  },
  {
   "cell_type": "markdown",
   "id": "55aa5492",
   "metadata": {},
   "source": [
    "#### 95-й и 99-й перцентили стоимости заказов\n",
    "Аналогично количеству заказов, найдем 95-й и 99-й перцентили для суммы заказа:"
   ]
  },
  {
   "cell_type": "code",
   "execution_count": 37,
   "id": "65335bf7",
   "metadata": {},
   "outputs": [
    {
     "name": "stdout",
     "output_type": "stream",
     "text": [
      "95-й перцентиль суммы заказа на пользователя:  [26785.]\n",
      "99-й перцентиль суммы заказа на пользователя:  [53904.]\n"
     ]
    }
   ],
   "source": [
    "print('95-й перцентиль суммы заказа на пользователя: ', np.percentile(orders['revenue'], [95]))\n",
    "print('99-й перцентиль суммы заказа на пользователя: ', np.percentile(orders['revenue'], [99]))"
   ]
  },
  {
   "cell_type": "markdown",
   "id": "0b28feb1",
   "metadata": {},
   "source": [
    "Руководствуясь тем же мотивом отсеить не более 5% пользователей, проведем границу по круглой цифре в 30 тыс у.е.."
   ]
  },
  {
   "cell_type": "markdown",
   "id": "e0b30f2f",
   "metadata": {},
   "source": [
    "### Оценка статистической значимости различий групп А и В"
   ]
  },
  {
   "cell_type": "markdown",
   "id": "1a46c530",
   "metadata": {},
   "source": [
    "#### Статистическая значимость различий в среднем количестве заказов на посетителя между группами по «сырым» данным\n",
    "Подсчитаем конверсию по группам - количество транзакций разделим на количество посетителей, сгруппировав датасет по тестируемым группам А и В:"
   ]
  },
  {
   "cell_type": "code",
   "execution_count": 38,
   "id": "489c5e48",
   "metadata": {},
   "outputs": [
    {
     "data": {
      "text/html": [
       "<div>\n",
       "<style scoped>\n",
       "    .dataframe tbody tr th:only-of-type {\n",
       "        vertical-align: middle;\n",
       "    }\n",
       "\n",
       "    .dataframe tbody tr th {\n",
       "        vertical-align: top;\n",
       "    }\n",
       "\n",
       "    .dataframe thead th {\n",
       "        text-align: right;\n",
       "    }\n",
       "</style>\n",
       "<table border=\"1\" class=\"dataframe\">\n",
       "  <thead>\n",
       "    <tr style=\"text-align: right;\">\n",
       "      <th></th>\n",
       "      <th>group</th>\n",
       "      <th>orders</th>\n",
       "      <th>visitors</th>\n",
       "      <th>conversion</th>\n",
       "    </tr>\n",
       "  </thead>\n",
       "  <tbody>\n",
       "    <tr>\n",
       "      <th>0</th>\n",
       "      <td>A</td>\n",
       "      <td>468</td>\n",
       "      <td>18736</td>\n",
       "      <td>0.024979</td>\n",
       "    </tr>\n",
       "    <tr>\n",
       "      <th>1</th>\n",
       "      <td>B</td>\n",
       "      <td>548</td>\n",
       "      <td>18916</td>\n",
       "      <td>0.028970</td>\n",
       "    </tr>\n",
       "  </tbody>\n",
       "</table>\n",
       "</div>"
      ],
      "text/plain": [
       "  group  orders  visitors  conversion\n",
       "0     A     468     18736    0.024979\n",
       "1     B     548     18916    0.028970"
      ]
     },
     "execution_count": 38,
     "metadata": {},
     "output_type": "execute_result"
    }
   ],
   "source": [
    "conversion = (orders.groupby('group').agg({'transactionId':'count'}).rename(columns={'transactionId':'orders'})\n",
    "                                     .join((visitors.groupby('group').agg({'visitors':'sum'}))).reset_index())\n",
    "conversion['conversion'] = conversion['orders'] / conversion['visitors']\n",
    "conversion"
   ]
  },
  {
   "cell_type": "code",
   "execution_count": 39,
   "id": "2f008389",
   "metadata": {},
   "outputs": [
    {
     "name": "stdout",
     "output_type": "stream",
     "text": [
      "Конверсия группы В больше конверсии группы А в 1.16 раз\n"
     ]
    }
   ],
   "source": [
    "print('Конверсия группы В больше конверсии группы А в' ,round(conversion['conversion'][1] / conversion['conversion'][0], 3),'раз')"
   ]
  },
  {
   "attachments": {
    "Image%20%284%29.png": {
     "image/png": "[encoded data removed]"
    }
   },
   "cell_type": "markdown",
   "id": "902aefcd",
   "metadata": {},
   "source": [
    "Чтобы ответить на вопрос, есть ли статистическая значимость у конверсии груааы А равной 2,50% и конверсии группы В равной 2,90%, воспользуемся методом проверки гипотезы о равенстве долей.\n",
    "\n",
    "<br>Н0 - Между значениями конверсии групп А и В нет статистически значимой разницы\n",
    "<br>Н1 - Статистически значимая разница между значениями конверсии групп А и В есть\n",
    "\n",
    "Сравнение будем проводить по формуле \n",
    "![Image%20%284%29.png](attachment:Image%20%284%29.png)\n",
    "где n1,2 - размеры выборок, Р1,2 - пропорции, Р - пропорция из двух выборок, в нашем случае это все доступные наблюдения. \n",
    "<br>$\\pi$ - истинное значение конверсии групп А и В, в предположении истинности нулевой гипотезы разность этих значений равна нулю."
   ]
  },
  {
   "cell_type": "code",
   "execution_count": 40,
   "id": "fa0e231f",
   "metadata": {},
   "outputs": [
    {
     "name": "stdout",
     "output_type": "stream",
     "text": [
      "p-значение:  0.016851380434703023\n",
      "Отвергаем нулевую гипотезу\n"
     ]
    }
   ],
   "source": [
    "alpha=0.05\n",
    "ords = np.array(conversion['orders'])\n",
    "visits = np.array(conversion['visitors'])\n",
    "p1 = ords[0] / visits[0]\n",
    "p2 = ords[1] / visits[1]\n",
    "combined = (ords[0] + ords[1]) / (visits[0] + visits[1])\n",
    "difference = p1-p2\n",
    "z_value = difference / math.sqrt(combined * (1 - combined) * (1 / visits[0] + 1 / visits[1]))\n",
    "distr = st.norm(0,1)\n",
    "p_value = (1 - distr.cdf(abs(z_value))) * 2\n",
    "print('p-значение: ', p_value)\n",
    "if p_value < alpha:\n",
    "    print('Отвергаем нулевую гипотезу')\n",
    "else:\n",
    "    print('Не получилось отвергнуть нулевую гипотезу') "
   ]
  },
  {
   "cell_type": "markdown",
   "id": "a5a6ea9c",
   "metadata": {},
   "source": [
    "<b>Нулевая гипотеза не подвердилась - разница конверсий группы В и А статистически значима.\n",
    "    \n",
    "<br>В качестве дополнительного упражнения проведем ту же проверку с помощью критерия Манна-Уитни\n",
    "<br>Жизнь была бы намного проще, если бы в датафрейме visitors у нас были visitorId, тогда присоединив к этой таблице по visitorId соответствующие поля из таблицы orders, мы бы сразу получили колонку с количеством заказов и n/a если их не было. Но колонки visitorId в датафрейме visitors нам не досталось, поэтому создадим массивы для сравнения вручную.\n",
    "    \n",
    "Из исходного датафрейма заказов выделим два по группам, которые будут содержать ID пользователя и количество его заказов:"
   ]
  },
  {
   "cell_type": "code",
   "execution_count": 41,
   "id": "35110622",
   "metadata": {},
   "outputs": [
    {
     "data": {
      "text/html": [
       "<div>\n",
       "<style scoped>\n",
       "    .dataframe tbody tr th:only-of-type {\n",
       "        vertical-align: middle;\n",
       "    }\n",
       "\n",
       "    .dataframe tbody tr th {\n",
       "        vertical-align: top;\n",
       "    }\n",
       "\n",
       "    .dataframe thead th {\n",
       "        text-align: right;\n",
       "    }\n",
       "</style>\n",
       "<table border=\"1\" class=\"dataframe\">\n",
       "  <thead>\n",
       "    <tr style=\"text-align: right;\">\n",
       "      <th></th>\n",
       "      <th>visitorId</th>\n",
       "      <th>orders</th>\n",
       "    </tr>\n",
       "  </thead>\n",
       "  <tbody>\n",
       "    <tr>\n",
       "      <th>0</th>\n",
       "      <td>11685486</td>\n",
       "      <td>1</td>\n",
       "    </tr>\n",
       "    <tr>\n",
       "      <th>1</th>\n",
       "      <td>54447517</td>\n",
       "      <td>1</td>\n",
       "    </tr>\n",
       "    <tr>\n",
       "      <th>2</th>\n",
       "      <td>66685450</td>\n",
       "      <td>1</td>\n",
       "    </tr>\n",
       "    <tr>\n",
       "      <th>3</th>\n",
       "      <td>78758296</td>\n",
       "      <td>1</td>\n",
       "    </tr>\n",
       "    <tr>\n",
       "      <th>4</th>\n",
       "      <td>85103373</td>\n",
       "      <td>1</td>\n",
       "    </tr>\n",
       "  </tbody>\n",
       "</table>\n",
       "</div>"
      ],
      "text/plain": [
       "   visitorId  orders\n",
       "0   11685486       1\n",
       "1   54447517       1\n",
       "2   66685450       1\n",
       "3   78758296       1\n",
       "4   85103373       1"
      ]
     },
     "execution_count": 41,
     "metadata": {},
     "output_type": "execute_result"
    }
   ],
   "source": [
    "ordersByUsersA = (orders[orders['group'] == 'A']\n",
    "                .groupby('visitorId', as_index=False)\n",
    "                .agg({'transactionId': 'count'})\n",
    "                 )\n",
    "ordersByUsersA.columns = ['visitorId', 'orders']\n",
    "\n",
    "ordersByUsersB = (orders[orders['group'] == 'B']\n",
    "                .groupby('visitorId', as_index=False)\n",
    "                .agg({'transactionId': 'count'})\n",
    "                 )\n",
    "ordersByUsersB.columns = ['visitorId', 'orders'] \n",
    "ordersByUsersA.head()"
   ]
  },
  {
   "cell_type": "markdown",
   "id": "9429a2e6",
   "metadata": {},
   "source": [
    "Аналогично разобьем датафрейм с информацией о посещениях на два по группам - в нем указаны даты и количество посещений."
   ]
  },
  {
   "cell_type": "code",
   "execution_count": 42,
   "id": "119b4489",
   "metadata": {},
   "outputs": [
    {
     "data": {
      "text/html": [
       "<div>\n",
       "<style scoped>\n",
       "    .dataframe tbody tr th:only-of-type {\n",
       "        vertical-align: middle;\n",
       "    }\n",
       "\n",
       "    .dataframe tbody tr th {\n",
       "        vertical-align: top;\n",
       "    }\n",
       "\n",
       "    .dataframe thead th {\n",
       "        text-align: right;\n",
       "    }\n",
       "</style>\n",
       "<table border=\"1\" class=\"dataframe\">\n",
       "  <thead>\n",
       "    <tr style=\"text-align: right;\">\n",
       "      <th></th>\n",
       "      <th>date</th>\n",
       "      <th>visitors</th>\n",
       "    </tr>\n",
       "  </thead>\n",
       "  <tbody>\n",
       "    <tr>\n",
       "      <th>0</th>\n",
       "      <td>2019-08-01</td>\n",
       "      <td>719</td>\n",
       "    </tr>\n",
       "    <tr>\n",
       "      <th>1</th>\n",
       "      <td>2019-08-02</td>\n",
       "      <td>619</td>\n",
       "    </tr>\n",
       "    <tr>\n",
       "      <th>2</th>\n",
       "      <td>2019-08-03</td>\n",
       "      <td>507</td>\n",
       "    </tr>\n",
       "    <tr>\n",
       "      <th>3</th>\n",
       "      <td>2019-08-04</td>\n",
       "      <td>717</td>\n",
       "    </tr>\n",
       "    <tr>\n",
       "      <th>4</th>\n",
       "      <td>2019-08-05</td>\n",
       "      <td>756</td>\n",
       "    </tr>\n",
       "  </tbody>\n",
       "</table>\n",
       "</div>"
      ],
      "text/plain": [
       "        date  visitors\n",
       "0 2019-08-01       719\n",
       "1 2019-08-02       619\n",
       "2 2019-08-03       507\n",
       "3 2019-08-04       717\n",
       "4 2019-08-05       756"
      ]
     },
     "execution_count": 42,
     "metadata": {},
     "output_type": "execute_result"
    }
   ],
   "source": [
    "visitorsADaily = visitors[visitors['group'] == 'A'][['date', 'visitors']]\n",
    "visitorsBDaily = visitors[visitors['group'] == 'B'][['date', 'visitors']]\n",
    "visitorsADaily.head()"
   ]
  },
  {
   "cell_type": "markdown",
   "id": "9145d159",
   "metadata": {},
   "source": [
    "Всего в группе А посещений было:"
   ]
  },
  {
   "cell_type": "code",
   "execution_count": 43,
   "id": "df35b2dd",
   "metadata": {},
   "outputs": [
    {
     "data": {
      "text/plain": [
       "18736"
      ]
     },
     "execution_count": 43,
     "metadata": {},
     "output_type": "execute_result"
    }
   ],
   "source": [
    "visitorsADaily['visitors'].sum()"
   ]
  },
  {
   "cell_type": "markdown",
   "id": "f20c8055",
   "metadata": {},
   "source": [
    "Из них покупками закончилось всего посещений:"
   ]
  },
  {
   "cell_type": "code",
   "execution_count": 44,
   "id": "eafb712e",
   "metadata": {},
   "outputs": [
    {
     "data": {
      "text/plain": [
       "445"
      ]
     },
     "execution_count": 44,
     "metadata": {},
     "output_type": "execute_result"
    }
   ],
   "source": [
    "len(ordersByUsersA['orders'])"
   ]
  },
  {
   "cell_type": "markdown",
   "id": "95715439",
   "metadata": {},
   "source": [
    "Значит ничего н купили:"
   ]
  },
  {
   "cell_type": "code",
   "execution_count": 45,
   "id": "12265291",
   "metadata": {},
   "outputs": [
    {
     "data": {
      "text/plain": [
       "18291"
      ]
     },
     "execution_count": 45,
     "metadata": {},
     "output_type": "execute_result"
    }
   ],
   "source": [
    "(visitorsADaily['visitors'].sum() - len(ordersByUsersA['orders']))"
   ]
  },
  {
   "cell_type": "markdown",
   "id": "5e5f49dd",
   "metadata": {},
   "source": [
    "Для проверки для каждой группы подготовим массив, который будет состоять из количества заказов для каждого пользователя и нулей для тех пользователей, кто не совершил заказ."
   ]
  },
  {
   "cell_type": "code",
   "execution_count": 46,
   "id": "b9255603",
   "metadata": {},
   "outputs": [
    {
     "data": {
      "text/plain": [
       "0        1\n",
       "1        1\n",
       "2        1\n",
       "3        1\n",
       "4        1\n",
       "        ..\n",
       "18286    0\n",
       "18287    0\n",
       "18288    0\n",
       "18289    0\n",
       "18290    0\n",
       "Name: orders, Length: 18736, dtype: int64"
      ]
     },
     "execution_count": 46,
     "metadata": {},
     "output_type": "execute_result"
    }
   ],
   "source": [
    "sampleA = pd.concat([ordersByUsersA['orders'],pd.Series(0, index=np.arange(visitorsADaily['visitors'].sum() - len(ordersByUsersA['orders'])), name='orders')],axis=0)\n",
    "sampleB = pd.concat([ordersByUsersB['orders'],pd.Series(0, index=np.arange(visitorsBDaily['visitors'].sum() - len(ordersByUsersB['orders'])), name='orders')],axis=0)\n",
    "sampleA"
   ]
  },
  {
   "cell_type": "markdown",
   "id": "2f937f9f",
   "metadata": {},
   "source": [
    "Нулевая и альтернативные гипотезы те же:\n",
    "\n",
    "<br>Н0 - Между значениями конверсии групп А и В нет статистически значимой разницы\n",
    "<br>Н1 - Статистически значимая разница между значениями конверсии групп А и В есть\n",
    "\n",
    "Проверяем, значима ли разница между нашими образцами методом Манна-Уитни:\n"
   ]
  },
  {
   "cell_type": "code",
   "execution_count": 47,
   "id": "f2f3e44d",
   "metadata": {},
   "outputs": [
    {
     "name": "stdout",
     "output_type": "stream",
     "text": [
      "p-значение:  0.011018084110014696\n",
      "Отвергаем нулевую гипотезу\n"
     ]
    }
   ],
   "source": [
    "p_value = st.mannwhitneyu(sampleA, sampleB)[1]\n",
    "print('p-значение: ', p_value)\n",
    "if p_value < alpha:\n",
    "    print('Отвергаем нулевую гипотезу')\n",
    "else:\n",
    "    print('Не получилось отвергнуть нулевую гипотезу') "
   ]
  },
  {
   "cell_type": "markdown",
   "id": "d94ae503",
   "metadata": {},
   "source": [
    "Метод .mean() примененный к нашим массивам даст среднюю конверсию"
   ]
  },
  {
   "cell_type": "code",
   "execution_count": 48,
   "id": "d79cded3",
   "metadata": {},
   "outputs": [
    {
     "name": "stdout",
     "output_type": "stream",
     "text": [
      "1.160\n"
     ]
    }
   ],
   "source": [
    "print(\"{0:.3f}\".format(sampleB.mean() / sampleA.mean()))"
   ]
  },
  {
   "cell_type": "markdown",
   "id": "a365354e",
   "metadata": {},
   "source": [
    "отношение средних конверсий группы В к группе А такое же, как и вычисленное из объединенных таблиц. \n",
    "\n",
    "Оба метода показали, что статистическая значимость разницы конверсии группы В и контрольной есть.\n",
    "\n",
    "Возможно мы даже нигде не ошиблись..."
   ]
  },
  {
   "cell_type": "markdown",
   "id": "5ef28554",
   "metadata": {},
   "source": [
    "#### Статистическая значимость различий в среднем чеке заказа между группами по «сырым» данным"
   ]
  },
  {
   "cell_type": "markdown",
   "id": "801c904e",
   "metadata": {},
   "source": [
    "Посмотрим на статистическую значимость различий в среднем чеке заказа между группами по «сырым» данным. В исходных данных, как мы уже выяснили графически, имеются значительные выбросы, поэтому критерий Манна-Уитни подойдет для данного теста\n",
    "<br> Н0 : Разница средних чеков групп А и В статистически незначима\n",
    "<br> Н1 : Разница средних чеков групп А и В статистически значима"
   ]
  },
  {
   "cell_type": "code",
   "execution_count": 49,
   "id": "9f13da41",
   "metadata": {},
   "outputs": [
    {
     "name": "stdout",
     "output_type": "stream",
     "text": [
      "p-значение:  0.8294908998149533\n",
      "Не получилось отвергнуть H0: вывод о различии сделать нельзя\n"
     ]
    }
   ],
   "source": [
    "alpha = 0.05\n",
    "results = st.mannwhitneyu(orders[orders['group']=='A']['revenue'], orders[orders['group']=='B']['revenue'])\n",
    "pvalue = results.pvalue\n",
    "print('p-значение: ', pvalue)\n",
    "if (pvalue < alpha):\n",
    "    print(\"Отвергаем H0: разница статистически значима\")\n",
    "else:\n",
    "    print(\"Не получилось отвергнуть H0: вывод о различии сделать нельзя\")"
   ]
  },
  {
   "cell_type": "markdown",
   "id": "ab8071af",
   "metadata": {},
   "source": [
    "Посмотрим на отношение средних значений:"
   ]
  },
  {
   "cell_type": "code",
   "execution_count": 50,
   "id": "961e5fef",
   "metadata": {},
   "outputs": [
    {
     "data": {
      "text/plain": [
       "1.29"
      ]
     },
     "execution_count": 50,
     "metadata": {},
     "output_type": "execute_result"
    }
   ],
   "source": [
    "round(orders[orders['group']=='B']['revenue'].mean() / orders[orders['group']=='A']['revenue'].mean(), 2)"
   ]
  },
  {
   "cell_type": "markdown",
   "id": "ec3fe6d3",
   "metadata": {},
   "source": [
    "Средний чек испытуемой группы заметно выше, но эта разница статистически незначима."
   ]
  },
  {
   "cell_type": "markdown",
   "id": "f304c460",
   "metadata": {},
   "source": [
    "Проверим, изменятся ли наши выводы, если убрать выбросы."
   ]
  },
  {
   "cell_type": "markdown",
   "id": "d64a656d",
   "metadata": {},
   "source": [
    "#### Cтатистическая значимость различий в среднем количестве заказов на посетителя между группами по «очищенным» данным"
   ]
  },
  {
   "cell_type": "markdown",
   "id": "0ba28e92",
   "metadata": {},
   "source": [
    "В п.2.2.8 мы договорились считать аномальными пользователей, совершивших 2 и более заказа. "
   ]
  },
  {
   "cell_type": "code",
   "execution_count": 51,
   "id": "8b7e1d61",
   "metadata": {},
   "outputs": [
    {
     "data": {
      "text/plain": [
       "36"
      ]
     },
     "execution_count": 51,
     "metadata": {},
     "output_type": "execute_result"
    }
   ],
   "source": [
    "shopoholics = orders.groupby('visitorId').agg({'transactionId':'count'}).reset_index().query('transactionId > 1')\n",
    "len(shopoholics)"
   ]
  },
  {
   "cell_type": "markdown",
   "id": "fb7ad275",
   "metadata": {},
   "source": [
    "В п.2.2.10 аномально крупными условлено считать заказы дороже 30000 у.е."
   ]
  },
  {
   "cell_type": "code",
   "execution_count": 52,
   "id": "24535b75",
   "metadata": {},
   "outputs": [
    {
     "data": {
      "text/plain": [
       "42"
      ]
     },
     "execution_count": 52,
     "metadata": {},
     "output_type": "execute_result"
    }
   ],
   "source": [
    "spenders = orders.query('revenue > 30000')[['visitorId', 'revenue']]\n",
    "len(spenders)"
   ]
  },
  {
   "cell_type": "markdown",
   "id": "0e5d166b",
   "metadata": {},
   "source": [
    "Объединим visitorId из обеих таблиц аномальных пользователей и удалим дубликаты - получится список ID пользователей, от которых надо будет избавиться:"
   ]
  },
  {
   "cell_type": "code",
   "execution_count": 53,
   "id": "d3688ef5",
   "metadata": {},
   "outputs": [
    {
     "data": {
      "text/plain": [
       "77"
      ]
     },
     "execution_count": 53,
     "metadata": {},
     "output_type": "execute_result"
    }
   ],
   "source": [
    "blacklist = pd.concat([shopoholics['visitorId'], spenders['visitorId']], axis=0).drop_duplicates()\n",
    "len(blacklist)"
   ]
  },
  {
   "cell_type": "markdown",
   "id": "bd34643b",
   "metadata": {},
   "source": [
    "Проверим статистическую значимость по критерию Манна-Уитни, по нему p-value был ниже. Сделаем срез по не_аномальным пользователям и вновь подготовим массивы для сравнения:"
   ]
  },
  {
   "cell_type": "code",
   "execution_count": 54,
   "id": "24518df6",
   "metadata": {},
   "outputs": [],
   "source": [
    "ordersByUsersA = ordersByUsersA.query('visitorId not in @blacklist')\n",
    "ordersByUsersB = ordersByUsersB.query('visitorId not in @blacklist')"
   ]
  },
  {
   "cell_type": "code",
   "execution_count": 55,
   "id": "1d1660b5",
   "metadata": {},
   "outputs": [],
   "source": [
    "sampleA = pd.concat([ordersByUsersA['orders'],pd.Series(0, index=np.arange(visitorsADaily['visitors'].sum() - len(ordersByUsersA['orders'])), name='orders')],axis=0)\n",
    "sampleB = pd.concat([ordersByUsersB['orders'],pd.Series(0, index=np.arange(visitorsBDaily['visitors'].sum() - len(ordersByUsersB['orders'])), name='orders')],axis=0)"
   ]
  },
  {
   "cell_type": "markdown",
   "id": "c8d3c5f2",
   "metadata": {},
   "source": [
    "Нулевая и альтернативные гипотезы остаются все те же:\n",
    "\n",
    "<br>Н0 - Между значениями конверсии групп А и В нет статистически значимой разницы\n",
    "<br>Н1 - Статистически значимая разница между значениями конверсии групп А и В есть"
   ]
  },
  {
   "cell_type": "code",
   "execution_count": 56,
   "id": "9b1acba1",
   "metadata": {},
   "outputs": [
    {
     "name": "stdout",
     "output_type": "stream",
     "text": [
      "p-значение:  0.01268377207021448\n",
      "Отвергаем нулевую гипотезу\n"
     ]
    }
   ],
   "source": [
    "p_value = st.mannwhitneyu(sampleA, sampleB)[1]\n",
    "print('p-значение: ', p_value)\n",
    "if p_value < alpha:\n",
    "    print('Отвергаем нулевую гипотезу')\n",
    "else:\n",
    "    print('Не получилось отвергнуть нулевую гипотезу') "
   ]
  },
  {
   "cell_type": "markdown",
   "id": "e5b8c19c",
   "metadata": {},
   "source": [
    "ничего не изменилось, p-value увеличился незначительно.\n",
    "<br>Посмотрим на средний чек"
   ]
  },
  {
   "cell_type": "markdown",
   "id": "50dd727a",
   "metadata": {},
   "source": [
    "#### Статистическая значимость различий в среднем чеке заказа между группами по «очищенным» данным\n",
    "Делаем срез данных, избавляясь от аномальных пользователей"
   ]
  },
  {
   "cell_type": "code",
   "execution_count": 57,
   "id": "064741ca",
   "metadata": {},
   "outputs": [],
   "source": [
    "orders_cleaned = orders.query('visitorId not in @blacklist')"
   ]
  },
  {
   "cell_type": "markdown",
   "id": "a55a022e",
   "metadata": {},
   "source": [
    "<br> Н0 : Разница средних чеков групп А и В статистически незначима\n",
    "<br> Н1 : Разница средних чеков групп А и В статистически значима"
   ]
  },
  {
   "cell_type": "code",
   "execution_count": 58,
   "id": "a2471e19",
   "metadata": {},
   "outputs": [
    {
     "name": "stdout",
     "output_type": "stream",
     "text": [
      "p-значение:  0.8289783257478777\n",
      "Не получилось отвергнуть H0: вывод о различии сделать нельзя\n"
     ]
    }
   ],
   "source": [
    "alpha = 0.05\n",
    "results = st.mannwhitneyu(orders_cleaned[orders_cleaned['group']=='A']['revenue'], orders_cleaned[orders_cleaned['group']=='B']['revenue'])\n",
    "pvalue = results.pvalue\n",
    "print('p-значение: ', pvalue)\n",
    "if (pvalue < alpha):\n",
    "    print(\"Отвергаем H0: разница статистически значима\")\n",
    "else:\n",
    "    print(\"Не получилось отвергнуть H0: вывод о различии сделать нельзя\")"
   ]
  },
  {
   "cell_type": "markdown",
   "id": "e5d45964",
   "metadata": {},
   "source": [
    "по-прежнему разница статистически незначима, посмотрим на цифру отношения средних:"
   ]
  },
  {
   "cell_type": "code",
   "execution_count": 59,
   "id": "6e0dd6d0",
   "metadata": {},
   "outputs": [
    {
     "data": {
      "text/plain": [
       "0.99"
      ]
     },
     "execution_count": 59,
     "metadata": {},
     "output_type": "execute_result"
    }
   ],
   "source": [
    "round(orders_cleaned[orders_cleaned['group']=='B']['revenue'].mean() / orders_cleaned[orders_cleaned['group']=='A']['revenue'].mean(), 2)"
   ]
  },
  {
   "cell_type": "markdown",
   "id": "41310ced",
   "metadata": {},
   "source": [
    "а вот теперь значению p-value в 0.83 удивляться совсем не приходится."
   ]
  },
  {
   "cell_type": "markdown",
   "id": "101805cf",
   "metadata": {},
   "source": [
    "## Выводы\n",
    "\n",
    "Построим еще раз, теперь уже для очищенных данных, два ключевых графика - отношения конверсий и кумулятивного среднего чека и сделаем выводы, подкрепленные знанием о статистической значимости различий."
   ]
  },
  {
   "cell_type": "code",
   "execution_count": 60,
   "id": "c1acb79c",
   "metadata": {},
   "outputs": [],
   "source": [
    "#переопределим датасет orders_cumsum используя срез с очищенными данными orders_cleaned, остальной код без изменений\n",
    "orders_cumsum = (orders_cleaned.groupby(['date','group'])\n",
    "                        .agg({'transactionId':'nunique','visitorId':'nunique','revenue':'sum'})).reset_index()\n",
    "orders_cumsum[['transactionId', 'visitorId', 'revenue']] = (\n",
    "    orders_cumsum.groupby('group')[['transactionId', 'visitorId', 'revenue']].cumsum())\n",
    "\n",
    "cum_data = orders_cumsum.merge(visitors_cumsum, on=['date', 'group'])\n",
    "cum_data.columns = ['date', 'group', 'orders', 'buyers', 'revenue', 'visitors']"
   ]
  },
  {
   "cell_type": "code",
   "execution_count": 61,
   "id": "70019f6c",
   "metadata": {},
   "outputs": [],
   "source": [
    "cum_convA = cum_data[cum_data['group'] == 'A'][['date', 'orders', 'visitors']]\n",
    "cum_convB = cum_data[cum_data['group'] == 'B'][['date', 'orders', 'visitors']]\n",
    "merged_cum_conv = cum_convA.merge(cum_convB, on='date', suffixes=['A', 'B'])"
   ]
  },
  {
   "cell_type": "code",
   "execution_count": 62,
   "id": "6eb1ed7c",
   "metadata": {},
   "outputs": [],
   "source": [
    "cum_revenueA = cum_data[cum_data['group'] == 'A'][['date', 'revenue', 'orders']]\n",
    "cum_revenueB = cum_data[cum_data['group'] == 'B'][['date', 'revenue', 'orders']]\n",
    "merged_cum_revenue = cum_revenueA.merge(cum_revenueB, on='date', suffixes=['A', 'B'])"
   ]
  },
  {
   "cell_type": "code",
   "execution_count": 63,
   "id": "c27ac233",
   "metadata": {},
   "outputs": [
    {
     "data": {
      "image/png": "[encoded data removed]",
      "text/plain": [
       "<Figure size 1500x500 with 2 Axes>"
      ]
     },
     "metadata": {},
     "output_type": "display_data"
    }
   ],
   "source": [
    "plt.figure(figsize=(15,5))\n",
    "ax1 = plt.subplot(1,2,1)\n",
    "plt.plot(merged_cum_conv['date'], (merged_cum_conv['ordersB'] / merged_cum_conv['visitorsB']) / \n",
    "         (merged_cum_conv['ordersA'] / merged_cum_conv['visitorsA']) - 1)\n",
    "plt.axhline(y=0, color='red', linestyle='--')\n",
    "plt.axhline(y=0.12, color='green', linestyle='dotted')\n",
    "plt.xlabel('Дата')\n",
    "plt.title('Относительное изменение конверсии');\n",
    "plt.xticks(rotation=45);\n",
    "ax2 = plt.subplot(1,2,2)\n",
    "plt.plot(merged_cum_revenue['date'], (merged_cum_revenue['revenueB'] / merged_cum_revenue['ordersB']) / \n",
    "         (merged_cum_revenue['revenueA'] / merged_cum_revenue['ordersA']) - 1)\n",
    "plt.axhline(y=0, color='red', linestyle='--')\n",
    "plt.title('Относительное изменение среднего чека')\n",
    "plt.xlabel('Дата');\n",
    "plt.xticks(rotation=45);\n",
    "plt.tight_layout()"
   ]
  },
  {
   "cell_type": "markdown",
   "id": "1e665990",
   "metadata": {},
   "source": [
    "- Видно, что конверсия группы В стабильно выше и мы знаем, что эта разница статистически значима\n",
    "- Средний чек практически не изменился, разница статистически не значима \n",
    "\n",
    "<br>Характер обоих графиков вцелом позволяет говорить о стабилизации и сделать вывод о том, что конверсия группы В выросла, но это не привело к росту среднего чека. Тест можно останавливать."
   ]
  }
 ],
 "metadata": {
  "kernelspec": {
   "display_name": "Python 3 (ipykernel)",
   "language": "python",
   "name": "python3"
  },
  "language_info": {
   "codemirror_mode": {
    "name": "ipython",
    "version": 3
   },
   "file_extension": ".py",
   "mimetype": "text/x-python",
   "name": "python",
   "nbconvert_exporter": "python",
   "pygments_lexer": "ipython3",
   "version": "3.9.13"
  },
  "toc": {
   "base_numbering": 1,
   "nav_menu": {},
   "number_sections": true,
   "sideBar": true,
   "skip_h1_title": true,
   "title_cell": "Table of Contents",
   "title_sidebar": "Contents",
   "toc_cell": true,
   "toc_position": {},
   "toc_section_display": true,
   "toc_window_display": false
  }
 },
 "nbformat": 4,
 "nbformat_minor": 5
}
